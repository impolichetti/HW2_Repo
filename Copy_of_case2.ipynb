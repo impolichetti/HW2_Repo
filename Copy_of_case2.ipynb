{
  "cells": [
    {
      "cell_type": "markdown",
      "metadata": {
        "id": "HM8WdWUHrfMW"
      },
      "source": [
        "<center><img src=\"https://github.com/DACSS-CSSmeths/guidelines/blob/main/pics/small_logo_ccs_meths.jpg?raw=true\" width=\"700\"></center>\n"
      ]
    },
    {
      "cell_type": "markdown",
      "metadata": {
        "id": "W5-dVE_erfMf"
      },
      "source": [
        "# PRE HOMEWORK"
      ]
    },
    {
      "cell_type": "markdown",
      "metadata": {
        "id": "DAk7iHjerfMh"
      },
      "source": [
        "# Case 2: Top People in Seattle\n",
        "\n",
        "<a target=\"_blank\" href=\"https://colab.research.google.com/github/DACSS-CSSmeths/Networks_intro/blob/main/case2.ipynb\">\n",
        "  <img src=\"https://colab.research.google.com/assets/colab-badge.svg\" alt=\"Open In Colab\"/>\n",
        "</a>\n",
        "\n",
        "I found a webpage about top people in Seattle:"
      ]
    },
    {
      "cell_type": "code",
      "execution_count": 1,
      "metadata": {
        "colab": {
          "base_uri": "https://localhost:8080/",
          "height": 372
        },
        "id": "SmzcF4TSrfMm",
        "outputId": "0fe0a9d6-6ed3-4f53-cdba-48a173d7158d"
      },
      "outputs": [
        {
          "output_type": "execute_result",
          "data": {
            "text/plain": [
              "<IPython.lib.display.IFrame at 0x7fe2d01509d0>"
            ],
            "text/html": [
              "\n",
              "        <iframe\n",
              "            width=\"800\"\n",
              "            height=\"350\"\n",
              "            src=\"https://www.builtinseattle.com/2018/08/06/50-seattle-tech-twitter-accounts-to-follow\"\n",
              "            frameborder=\"0\"\n",
              "            allowfullscreen\n",
              "            \n",
              "        ></iframe>\n",
              "        "
            ]
          },
          "metadata": {},
          "execution_count": 1
        }
      ],
      "source": [
        "from IPython.display import IFrame\n",
        "IFrame('https://www.builtinseattle.com/2018/08/06/50-seattle-tech-twitter-accounts-to-follow', 800, 350)"
      ]
    },
    {
      "cell_type": "markdown",
      "metadata": {
        "id": "d99QSa9JrfMr"
      },
      "source": [
        "**We** have the network as **edgelist**:"
      ]
    },
    {
      "cell_type": "code",
      "execution_count": 2,
      "metadata": {
        "colab": {
          "base_uri": "https://localhost:8080/",
          "height": 372
        },
        "id": "AAK7EKW1rfMs",
        "outputId": "7b807535-0ca6-4d96-8a28-b983abfc01d9"
      },
      "outputs": [
        {
          "output_type": "execute_result",
          "data": {
            "text/plain": [
              "<IPython.lib.display.IFrame at 0x7fe2d0167350>"
            ],
            "text/html": [
              "\n",
              "        <iframe\n",
              "            width=\"800\"\n",
              "            height=\"350\"\n",
              "            src=\"https://docs.google.com/spreadsheets/d/e/2PACX-1vRcnvcCrg58H3YAjZpEcGIRa48JrOySKnh4k6q9_-ENWTGatWvS3RayQs6CNR36rJfvi8ld0PPI6Jko/pubhtml\"\n",
              "            frameborder=\"0\"\n",
              "            allowfullscreen\n",
              "            \n",
              "        ></iframe>\n",
              "        "
            ]
          },
          "metadata": {},
          "execution_count": 2
        }
      ],
      "source": [
        "IFrame('https://docs.google.com/spreadsheets/d/e/2PACX-1vRcnvcCrg58H3YAjZpEcGIRa48JrOySKnh4k6q9_-ENWTGatWvS3RayQs6CNR36rJfvi8ld0PPI6Jko/pubhtml', 800, 350)"
      ]
    },
    {
      "cell_type": "markdown",
      "metadata": {
        "id": "9WGGeDfJrfMv"
      },
      "source": [
        "Following people on social media is a traditional example of an _asymmetric_ relationship.\n",
        "\n",
        "These data is on another Excel on GitHub:"
      ]
    },
    {
      "cell_type": "code",
      "execution_count": 3,
      "metadata": {
        "id": "d12WsIw4rfMw"
      },
      "outputs": [],
      "source": [
        "# link to GitHub\n",
        "linkGoogle=\"https://github.com/DACSS-CSSmeths/Networks_intro/raw/refs/heads/main/casesData/SeattleTopData.xlsx\""
      ]
    },
    {
      "cell_type": "markdown",
      "metadata": {
        "id": "hWeNz7PjrfMy"
      },
      "source": [
        "Prepare the right  network, including  the node attributes, and save (export) the network as a _graphml_ file."
      ]
    },
    {
      "cell_type": "code",
      "source": [
        "import pandas as pd\n",
        "import networkx as nx\n"
      ],
      "metadata": {
        "id": "elF8gfkrsE4B"
      },
      "execution_count": 4,
      "outputs": []
    },
    {
      "cell_type": "code",
      "source": [
        "xls = pd.ExcelFile(linkGoogle)\n",
        "print(xls.sheet_names)\n"
      ],
      "metadata": {
        "colab": {
          "base_uri": "https://localhost:8080/"
        },
        "id": "DSI7I1UUuYmf",
        "outputId": "297fc2d6-d4cf-440d-c0a3-0814b64fb2c5"
      },
      "execution_count": 8,
      "outputs": [
        {
          "output_type": "stream",
          "name": "stdout",
          "text": [
            "['edges', 'attributes']\n"
          ]
        }
      ]
    },
    {
      "cell_type": "code",
      "source": [
        "edgelist = pd.read_excel(linkGoogle, sheet_name=\"edges\")\n",
        "print(edgelist)"
      ],
      "metadata": {
        "collapsed": true,
        "colab": {
          "base_uri": "https://localhost:8080/"
        },
        "id": "MqmlgZWEvPIu",
        "outputId": "4036155f-00a1-4d8d-f908-334bf135e357"
      },
      "execution_count": 9,
      "outputs": [
        {
          "output_type": "stream",
          "name": "stdout",
          "text": [
            "              source          target  weight\n",
            "0        rachelerman    mattmcilwain       1\n",
            "1        rachelerman   DaveParkerSEA       1\n",
            "2        rachelerman      toddbishop       1\n",
            "3        rachelerman      ashannstew       1\n",
            "4        rachelerman  LeslieFeinzaig       1\n",
            "..               ...             ...     ...\n",
            "583  marybethlambert     rachelerman       1\n",
            "584  marybethlambert      toddbishop       1\n",
            "585  marybethlambert    ShaunaCausey       1\n",
            "586  marybethlambert      moniguzman       1\n",
            "587  marybethlambert   heatherredman       1\n",
            "\n",
            "[588 rows x 3 columns]\n"
          ]
        }
      ]
    },
    {
      "cell_type": "code",
      "source": [
        "print(edgelist.columns)"
      ],
      "metadata": {
        "colab": {
          "base_uri": "https://localhost:8080/"
        },
        "id": "8DU1k50t4VZE",
        "outputId": "896c44c2-79e2-4743-9f92-43e53a21516d"
      },
      "execution_count": 10,
      "outputs": [
        {
          "output_type": "stream",
          "name": "stdout",
          "text": [
            "Index(['source', 'target', 'weight'], dtype='object')\n"
          ]
        }
      ]
    },
    {
      "cell_type": "code",
      "source": [
        "graph_edgelist_d=nx.from_pandas_edgelist(edgelist,edge_attr=True,\n",
        "                                         create_using=nx.DiGraph) # here!!\n",
        "# see edges\n",
        "graph_edgelist_d.edges.data()"
      ],
      "metadata": {
        "collapsed": true,
        "colab": {
          "base_uri": "https://localhost:8080/"
        },
        "id": "3kutDTrIxx67",
        "outputId": "563ba21e-475b-4aa8-ebac-5ad5988e26e3"
      },
      "execution_count": 11,
      "outputs": [
        {
          "output_type": "execute_result",
          "data": {
            "text/plain": [
              "OutEdgeDataView([('rachelerman', 'mattmcilwain', {'weight': 1}), ('rachelerman', 'DaveParkerSEA', {'weight': 1}), ('rachelerman', 'toddbishop', {'weight': 1}), ('rachelerman', 'ashannstew', {'weight': 1}), ('rachelerman', 'LeslieFeinzaig', {'weight': 1}), ('rachelerman', 'akipman', {'weight': 1}), ('rachelerman', 'matt_oppy', {'weight': 1}), ('rachelerman', 'gilbert', {'weight': 1}), ('rachelerman', 'juliesandler', {'weight': 1}), ('rachelerman', 'BradSmi', {'weight': 1}), ('rachelerman', 'crashdev', {'weight': 1}), ('rachelerman', 'ShaunaCausey', {'weight': 1}), ('rachelerman', 'john_gabbert', {'weight': 1}), ('rachelerman', 'moniguzman', {'weight': 1}), ('rachelerman', 'mattmday', {'weight': 1}), ('rachelerman', 'Rich_Barton', {'weight': 1}), ('rachelerman', 'daryn', {'weight': 1}), ('rachelerman', 'lovelletters', {'weight': 1}), ('rachelerman', 'etzioni', {'weight': 1}), ('rachelerman', 'MissDestructo', {'weight': 1}), ('rachelerman', 'heatherredman', {'weight': 1}), ('rachelerman', 'danshapiro', {'weight': 1}), ('rachelerman', 'medinism', {'weight': 1}), ('rachelerman', 'KieranSnyder', {'weight': 1}), ('rachelerman', 'hadip', {'weight': 1}), ('rachelerman', 'RajSinghSeattle', {'weight': 1}), ('mattmcilwain', 'toddbishop', {'weight': 1}), ('mattmcilwain', 'gilbert', {'weight': 1}), ('mattmcilwain', 'juliesandler', {'weight': 1}), ('mattmcilwain', 'Rich_Barton', {'weight': 1}), ('mattmcilwain', 'etzioni', {'weight': 1}), ('mattmcilwain', 'MissDestructo', {'weight': 1}), ('mattmcilwain', 'RajSinghSeattle', {'weight': 1}), ('mattmcilwain', 'funcOfJoe', {'weight': 1}), ('mattmcilwain', 'kirbywinfield', {'weight': 1}), ('DaveParkerSEA', 'rachelerman', {'weight': 1}), ('DaveParkerSEA', 'toddbishop', {'weight': 1}), ('DaveParkerSEA', 'ashannstew', {'weight': 1}), ('DaveParkerSEA', 'LeslieFeinzaig', {'weight': 1}), ('DaveParkerSEA', 'matt_oppy', {'weight': 1}), ('DaveParkerSEA', 'gilbert', {'weight': 1}), ('DaveParkerSEA', 'juliesandler', {'weight': 1}), ('DaveParkerSEA', 'crashdev', {'weight': 1}), ('DaveParkerSEA', 'ShaunaCausey', {'weight': 1}), ('DaveParkerSEA', 'john_gabbert', {'weight': 1}), ('DaveParkerSEA', 'moniguzman', {'weight': 1}), ('DaveParkerSEA', 'mattmday', {'weight': 1}), ('DaveParkerSEA', 'Rich_Barton', {'weight': 1}), ('DaveParkerSEA', 'lovelletters', {'weight': 1}), ('DaveParkerSEA', 'etzioni', {'weight': 1}), ('DaveParkerSEA', 'MissDestructo', {'weight': 1}), ('DaveParkerSEA', 'heatherredman', {'weight': 1}), ('DaveParkerSEA', 'danshapiro', {'weight': 1}), ('DaveParkerSEA', 'medinism', {'weight': 1}), ('DaveParkerSEA', 'KieranSnyder', {'weight': 1}), ('DaveParkerSEA', 'hadip', {'weight': 1}), ('DaveParkerSEA', 'RajSinghSeattle', {'weight': 1}), ('DaveParkerSEA', 'funcOfJoe', {'weight': 1}), ('DaveParkerSEA', 'kirbywinfield', {'weight': 1}), ('DaveParkerSEA', 'stevesi', {'weight': 1}), ('DaveParkerSEA', 'Ryanintheus', {'weight': 1}), ('DaveParkerSEA', 'sonalpmane', {'weight': 1}), ('DaveParkerSEA', 'SoGulley', {'weight': 1}), ('DaveParkerSEA', '2morrowknight', {'weight': 1}), ('DaveParkerSEA', 'jinman', {'weight': 1}), ('DaveParkerSEA', 'tarah', {'weight': 1}), ('DaveParkerSEA', 'Jenerationy', {'weight': 1}), ('DaveParkerSEA', 'lanctot', {'weight': 1}), ('DaveParkerSEA', 'Kristen_Hammy', {'weight': 1}), ('DaveParkerSEA', 'nhuntwalker', {'weight': 1}), ('DaveParkerSEA', 'eugenio_pace', {'weight': 1}), ('toddbishop', 'rachelerman', {'weight': 1}), ('toddbishop', 'mattmcilwain', {'weight': 1}), ('toddbishop', 'DaveParkerSEA', {'weight': 1}), ('toddbishop', 'ashannstew', {'weight': 1}), ('toddbishop', 'LeslieFeinzaig', {'weight': 1}), ('toddbishop', 'akipman', {'weight': 1}), ('toddbishop', 'matt_oppy', {'weight': 1}), ('toddbishop', 'gilbert', {'weight': 1}), ('toddbishop', 'juliesandler', {'weight': 1}), ('toddbishop', 'BradSmi', {'weight': 1}), ('toddbishop', 'crashdev', {'weight': 1}), ('toddbishop', 'ShaunaCausey', {'weight': 1}), ('toddbishop', 'john_gabbert', {'weight': 1}), ('toddbishop', 'moniguzman', {'weight': 1}), ('toddbishop', 'mattmday', {'weight': 1}), ('toddbishop', 'Rich_Barton', {'weight': 1}), ('toddbishop', 'daryn', {'weight': 1}), ('toddbishop', 'lovelletters', {'weight': 1}), ('toddbishop', 'etzioni', {'weight': 1}), ('toddbishop', 'MissDestructo', {'weight': 1}), ('toddbishop', 'heatherredman', {'weight': 1}), ('toddbishop', 'danshapiro', {'weight': 1}), ('toddbishop', 'medinism', {'weight': 1}), ('toddbishop', 'KieranSnyder', {'weight': 1}), ('toddbishop', 'hadip', {'weight': 1}), ('toddbishop', 'RajSinghSeattle', {'weight': 1}), ('toddbishop', 'funcOfJoe', {'weight': 1}), ('toddbishop', 'kirbywinfield', {'weight': 1}), ('toddbishop', 'stevesi', {'weight': 1}), ('toddbishop', 'Ryanintheus', {'weight': 1}), ('toddbishop', 'SoGulley', {'weight': 1}), ('toddbishop', 'jinman', {'weight': 1}), ('toddbishop', 'tarah', {'weight': 1}), ('toddbishop', 'lanctot', {'weight': 1}), ('toddbishop', 'Kristen_Hammy', {'weight': 1}), ('toddbishop', 'JenMsft', {'weight': 1}), ('toddbishop', 'PeterHamilton', {'weight': 1}), ('toddbishop', 'sarahstood', {'weight': 1}), ('toddbishop', 'mcolacurcio', {'weight': 1}), ('ashannstew', 'rachelerman', {'weight': 1}), ('ashannstew', 'mattmcilwain', {'weight': 1}), ('ashannstew', 'toddbishop', {'weight': 1}), ('ashannstew', 'LeslieFeinzaig', {'weight': 1}), ('ashannstew', 'matt_oppy', {'weight': 1}), ('ashannstew', 'gilbert', {'weight': 1}), ('ashannstew', 'juliesandler', {'weight': 1}), ('ashannstew', 'crashdev', {'weight': 1}), ('ashannstew', 'moniguzman', {'weight': 1}), ('ashannstew', 'mattmday', {'weight': 1}), ('ashannstew', 'lovelletters', {'weight': 1}), ('ashannstew', 'heatherredman', {'weight': 1}), ('ashannstew', 'hadip', {'weight': 1}), ('ashannstew', 'RajSinghSeattle', {'weight': 1}), ('ashannstew', 'stevesi', {'weight': 1}), ('LeslieFeinzaig', 'rachelerman', {'weight': 1}), ('LeslieFeinzaig', 'DaveParkerSEA', {'weight': 1}), ('LeslieFeinzaig', 'toddbishop', {'weight': 1}), ('LeslieFeinzaig', 'ashannstew', {'weight': 1}), ('LeslieFeinzaig', 'matt_oppy', {'weight': 1}), ('LeslieFeinzaig', 'juliesandler', {'weight': 1}), ('LeslieFeinzaig', 'ShaunaCausey', {'weight': 1}), ('LeslieFeinzaig', 'lovelletters', {'weight': 1}), ('LeslieFeinzaig', 'MissDestructo', {'weight': 1}), ('LeslieFeinzaig', 'heatherredman', {'weight': 1}), ('LeslieFeinzaig', 'KieranSnyder', {'weight': 1}), ('LeslieFeinzaig', 'kirbywinfield', {'weight': 1}), ('LeslieFeinzaig', 'stevesi', {'weight': 1}), ('LeslieFeinzaig', 'sonalpmane', {'weight': 1}), ('LeslieFeinzaig', 'SoGulley', {'weight': 1}), ('LeslieFeinzaig', 'mcolacurcio', {'weight': 1}), ('akipman', 'BradSmi', {'weight': 1}), ('matt_oppy', 'rachelerman', {'weight': 1}), ('matt_oppy', 'mattmcilwain', {'weight': 1}), ('matt_oppy', 'DaveParkerSEA', {'weight': 1}), ('matt_oppy', 'toddbishop', {'weight': 1}), ('matt_oppy', 'ashannstew', {'weight': 1}), ('matt_oppy', 'LeslieFeinzaig', {'weight': 1}), ('matt_oppy', 'gilbert', {'weight': 1}), ('matt_oppy', 'juliesandler', {'weight': 1}), ('matt_oppy', 'crashdev', {'weight': 1}), ('matt_oppy', 'ShaunaCausey', {'weight': 1}), ('matt_oppy', 'john_gabbert', {'weight': 1}), ('matt_oppy', 'moniguzman', {'weight': 1}), ('matt_oppy', 'Rich_Barton', {'weight': 1}), ('matt_oppy', 'lovelletters', {'weight': 1}), ('matt_oppy', 'etzioni', {'weight': 1}), ('matt_oppy', 'heatherredman', {'weight': 1}), ('matt_oppy', 'danshapiro', {'weight': 1}), ('matt_oppy', 'medinism', {'weight': 1}), ('matt_oppy', 'KieranSnyder', {'weight': 1}), ('matt_oppy', 'RajSinghSeattle', {'weight': 1}), ('matt_oppy', 'kirbywinfield', {'weight': 1}), ('matt_oppy', 'stevesi', {'weight': 1}), ('matt_oppy', 'Jenerationy', {'weight': 1}), ('matt_oppy', 'Kristen_Hammy', {'weight': 1}), ('matt_oppy', 'eugenio_pace', {'weight': 1}), ('matt_oppy', 'PeterHamilton', {'weight': 1}), ('gilbert', 'rachelerman', {'weight': 1}), ('gilbert', 'juliesandler', {'weight': 1}), ('gilbert', 'Rich_Barton', {'weight': 1}), ('gilbert', 'daryn', {'weight': 1}), ('gilbert', 'KieranSnyder', {'weight': 1}), ('gilbert', 'kirbywinfield', {'weight': 1}), ('gilbert', 'stevesi', {'weight': 1}), ('juliesandler', 'rachelerman', {'weight': 1}), ('juliesandler', 'mattmcilwain', {'weight': 1}), ('juliesandler', 'DaveParkerSEA', {'weight': 1}), ('juliesandler', 'toddbishop', {'weight': 1}), ('juliesandler', 'ashannstew', {'weight': 1}), ('juliesandler', 'LeslieFeinzaig', {'weight': 1}), ('juliesandler', 'matt_oppy', {'weight': 1}), ('juliesandler', 'gilbert', {'weight': 1}), ('juliesandler', 'BradSmi', {'weight': 1}), ('juliesandler', 'crashdev', {'weight': 1}), ('juliesandler', 'ShaunaCausey', {'weight': 1}), ('juliesandler', 'john_gabbert', {'weight': 1}), ('juliesandler', 'moniguzman', {'weight': 1}), ('juliesandler', 'Rich_Barton', {'weight': 1}), ('juliesandler', 'daryn', {'weight': 1}), ('juliesandler', 'lovelletters', {'weight': 1}), ('juliesandler', 'etzioni', {'weight': 1}), ('juliesandler', 'MissDestructo', {'weight': 1}), ('juliesandler', 'heatherredman', {'weight': 1}), ('juliesandler', 'danshapiro', {'weight': 1}), ('juliesandler', 'KieranSnyder', {'weight': 1}), ('juliesandler', 'hadip', {'weight': 1}), ('juliesandler', 'RajSinghSeattle', {'weight': 1}), ('juliesandler', 'kirbywinfield', {'weight': 1}), ('juliesandler', 'sonalpmane', {'weight': 1}), ('juliesandler', 'Kristen_Hammy', {'weight': 1}), ('BradSmi', 'rachelerman', {'weight': 1}), ('BradSmi', 'toddbishop', {'weight': 1}), ('BradSmi', 'akipman', {'weight': 1}), ('BradSmi', 'mattmday', {'weight': 1}), ('BradSmi', 'Rich_Barton', {'weight': 1}), ('BradSmi', 'etzioni', {'weight': 1}), ('BradSmi', 'hadip', {'weight': 1}), ('BradSmi', 'RajSinghSeattle', {'weight': 1}), ('crashdev', 'rachelerman', {'weight': 1}), ('crashdev', 'toddbishop', {'weight': 1}), ('crashdev', 'matt_oppy', {'weight': 1}), ('crashdev', 'juliesandler', {'weight': 1}), ('crashdev', 'john_gabbert', {'weight': 1}), ('crashdev', 'Rich_Barton', {'weight': 1}), ('crashdev', 'lovelletters', {'weight': 1}), ('crashdev', 'etzioni', {'weight': 1}), ('crashdev', 'heatherredman', {'weight': 1}), ('crashdev', 'danshapiro', {'weight': 1}), ('crashdev', 'medinism', {'weight': 1}), ('crashdev', 'RajSinghSeattle', {'weight': 1}), ('crashdev', 'kirbywinfield', {'weight': 1}), ('crashdev', 'stevesi', {'weight': 1}), ('crashdev', 'Kristen_Hammy', {'weight': 1}), ('crashdev', 'eugenio_pace', {'weight': 1}), ('ShaunaCausey', 'rachelerman', {'weight': 1}), ('ShaunaCausey', 'mattmcilwain', {'weight': 1}), ('ShaunaCausey', 'DaveParkerSEA', {'weight': 1}), ('ShaunaCausey', 'toddbishop', {'weight': 1}), ('ShaunaCausey', 'LeslieFeinzaig', {'weight': 1}), ('ShaunaCausey', 'matt_oppy', {'weight': 1}), ('ShaunaCausey', 'juliesandler', {'weight': 1}), ('ShaunaCausey', 'john_gabbert', {'weight': 1}), ('ShaunaCausey', 'moniguzman', {'weight': 1}), ('ShaunaCausey', 'Rich_Barton', {'weight': 1}), ('ShaunaCausey', 'daryn', {'weight': 1}), ('ShaunaCausey', 'lovelletters', {'weight': 1}), ('ShaunaCausey', 'etzioni', {'weight': 1}), ('ShaunaCausey', 'MissDestructo', {'weight': 1}), ('ShaunaCausey', 'heatherredman', {'weight': 1}), ('ShaunaCausey', 'KieranSnyder', {'weight': 1}), ('ShaunaCausey', 'hadip', {'weight': 1}), ('ShaunaCausey', 'RajSinghSeattle', {'weight': 1}), ('ShaunaCausey', 'stevesi', {'weight': 1}), ('ShaunaCausey', 'SoGulley', {'weight': 1}), ('ShaunaCausey', 'jinman', {'weight': 1}), ('ShaunaCausey', 'Jenerationy', {'weight': 1}), ('ShaunaCausey', 'lanctot', {'weight': 1}), ('ShaunaCausey', 'Kristen_Hammy', {'weight': 1}), ('ShaunaCausey', 'PeterHamilton', {'weight': 1}), ('ShaunaCausey', 'sarahstood', {'weight': 1}), ('ShaunaCausey', 'mcolacurcio', {'weight': 1}), ('ShaunaCausey', 'marybethlambert', {'weight': 1}), ('john_gabbert', 'rachelerman', {'weight': 1}), ('john_gabbert', 'toddbishop', {'weight': 1}), ('john_gabbert', 'matt_oppy', {'weight': 1}), ('john_gabbert', 'juliesandler', {'weight': 1}), ('john_gabbert', 'crashdev', {'weight': 1}), ('john_gabbert', 'ShaunaCausey', {'weight': 1}), ('moniguzman', 'rachelerman', {'weight': 1}), ('moniguzman', 'toddbishop', {'weight': 1}), ('moniguzman', 'ashannstew', {'weight': 1}), ('moniguzman', 'LeslieFeinzaig', {'weight': 1}), ('moniguzman', 'gilbert', {'weight': 1}), ('moniguzman', 'juliesandler', {'weight': 1}), ('moniguzman', 'ShaunaCausey', {'weight': 1}), ('moniguzman', 'mattmday', {'weight': 1}), ('moniguzman', 'Rich_Barton', {'weight': 1}), ('moniguzman', 'daryn', {'weight': 1}), ('moniguzman', 'lovelletters', {'weight': 1}), ('moniguzman', 'MissDestructo', {'weight': 1}), ('moniguzman', 'heatherredman', {'weight': 1}), ('moniguzman', 'danshapiro', {'weight': 1}), ('moniguzman', 'hadip', {'weight': 1}), ('moniguzman', 'RajSinghSeattle', {'weight': 1}), ('moniguzman', 'stevesi', {'weight': 1}), ('moniguzman', 'Ryanintheus', {'weight': 1}), ('moniguzman', 'tarah', {'weight': 1}), ('moniguzman', 'Jenerationy', {'weight': 1}), ('moniguzman', 'lanctot', {'weight': 1}), ('moniguzman', 'sarahstood', {'weight': 1}), ('moniguzman', 'mcolacurcio', {'weight': 1}), ('mattmday', 'rachelerman', {'weight': 1}), ('mattmday', 'mattmcilwain', {'weight': 1}), ('mattmday', 'toddbishop', {'weight': 1}), ('mattmday', 'ashannstew', {'weight': 1}), ('mattmday', 'akipman', {'weight': 1}), ('mattmday', 'juliesandler', {'weight': 1}), ('mattmday', 'BradSmi', {'weight': 1}), ('mattmday', 'moniguzman', {'weight': 1}), ('mattmday', 'Rich_Barton', {'weight': 1}), ('mattmday', 'daryn', {'weight': 1}), ('mattmday', 'medinism', {'weight': 1}), ('mattmday', 'KieranSnyder', {'weight': 1}), ('Rich_Barton', 'etzioni', {'weight': 1}), ('Rich_Barton', 'hadip', {'weight': 1}), ('Rich_Barton', 'stevesi', {'weight': 1}), ('daryn', 'rachelerman', {'weight': 1}), ('daryn', 'toddbishop', {'weight': 1}), ('daryn', 'gilbert', {'weight': 1}), ('daryn', 'juliesandler', {'weight': 1}), ('daryn', 'ShaunaCausey', {'weight': 1}), ('daryn', 'moniguzman', {'weight': 1}), ('daryn', 'mattmday', {'weight': 1}), ('daryn', 'heatherredman', {'weight': 1}), ('daryn', 'danshapiro', {'weight': 1}), ('daryn', 'hadip', {'weight': 1}), ('lovelletters', 'rachelerman', {'weight': 1}), ('lovelletters', 'mattmcilwain', {'weight': 1}), ('lovelletters', 'DaveParkerSEA', {'weight': 1}), ('lovelletters', 'toddbishop', {'weight': 1}), ('lovelletters', 'ashannstew', {'weight': 1}), ('lovelletters', 'LeslieFeinzaig', {'weight': 1}), ('lovelletters', 'matt_oppy', {'weight': 1}), ('lovelletters', 'juliesandler', {'weight': 1}), ('lovelletters', 'crashdev', {'weight': 1}), ('lovelletters', 'ShaunaCausey', {'weight': 1}), ('lovelletters', 'moniguzman', {'weight': 1}), ('lovelletters', 'etzioni', {'weight': 1}), ('lovelletters', 'MissDestructo', {'weight': 1}), ('lovelletters', 'heatherredman', {'weight': 1}), ('lovelletters', 'danshapiro', {'weight': 1}), ('lovelletters', 'KieranSnyder', {'weight': 1}), ('lovelletters', 'hadip', {'weight': 1}), ('lovelletters', 'RajSinghSeattle', {'weight': 1}), ('lovelletters', 'kirbywinfield', {'weight': 1}), ('lovelletters', 'stevesi', {'weight': 1}), ('lovelletters', 'Ryanintheus', {'weight': 1}), ('lovelletters', 'sonalpmane', {'weight': 1}), ('lovelletters', 'tarah', {'weight': 1}), ('lovelletters', 'Kristen_Hammy', {'weight': 1}), ('etzioni', 'rachelerman', {'weight': 1}), ('etzioni', 'mattmcilwain', {'weight': 1}), ('etzioni', 'DaveParkerSEA', {'weight': 1}), ('etzioni', 'toddbishop', {'weight': 1}), ('etzioni', 'gilbert', {'weight': 1}), ('etzioni', 'juliesandler', {'weight': 1}), ('etzioni', 'BradSmi', {'weight': 1}), ('etzioni', 'crashdev', {'weight': 1}), ('etzioni', 'ShaunaCausey', {'weight': 1}), ('etzioni', 'Rich_Barton', {'weight': 1}), ('etzioni', 'lovelletters', {'weight': 1}), ('etzioni', 'heatherredman', {'weight': 1}), ('etzioni', 'hadip', {'weight': 1}), ('etzioni', 'kirbywinfield', {'weight': 1}), ('MissDestructo', 'rachelerman', {'weight': 1}), ('MissDestructo', 'mattmcilwain', {'weight': 1}), ('MissDestructo', 'DaveParkerSEA', {'weight': 1}), ('MissDestructo', 'toddbishop', {'weight': 1}), ('MissDestructo', 'LeslieFeinzaig', {'weight': 1}), ('MissDestructo', 'akipman', {'weight': 1}), ('MissDestructo', 'gilbert', {'weight': 1}), ('MissDestructo', 'juliesandler', {'weight': 1}), ('MissDestructo', 'ShaunaCausey', {'weight': 1}), ('MissDestructo', 'moniguzman', {'weight': 1}), ('MissDestructo', 'mattmday', {'weight': 1}), ('MissDestructo', 'lovelletters', {'weight': 1}), ('MissDestructo', 'heatherredman', {'weight': 1}), ('MissDestructo', 'danshapiro', {'weight': 1}), ('MissDestructo', 'KieranSnyder', {'weight': 1}), ('MissDestructo', 'RajSinghSeattle', {'weight': 1}), ('MissDestructo', 'stevesi', {'weight': 1}), ('MissDestructo', 'Ryanintheus', {'weight': 1}), ('MissDestructo', 'sonalpmane', {'weight': 1}), ('MissDestructo', 'SoGulley', {'weight': 1}), ('MissDestructo', '2morrowknight', {'weight': 1}), ('MissDestructo', 'tarah', {'weight': 1}), ('MissDestructo', 'PeterHamilton', {'weight': 1}), ('heatherredman', 'rachelerman', {'weight': 1}), ('heatherredman', 'DaveParkerSEA', {'weight': 1}), ('heatherredman', 'toddbishop', {'weight': 1}), ('heatherredman', 'ashannstew', {'weight': 1}), ('heatherredman', 'LeslieFeinzaig', {'weight': 1}), ('heatherredman', 'gilbert', {'weight': 1}), ('heatherredman', 'juliesandler', {'weight': 1}), ('heatherredman', 'BradSmi', {'weight': 1}), ('heatherredman', 'crashdev', {'weight': 1}), ('heatherredman', 'ShaunaCausey', {'weight': 1}), ('heatherredman', 'Rich_Barton', {'weight': 1}), ('heatherredman', 'lovelletters', {'weight': 1}), ('heatherredman', 'etzioni', {'weight': 1}), ('heatherredman', 'MissDestructo', {'weight': 1}), ('heatherredman', 'medinism', {'weight': 1}), ('heatherredman', 'KieranSnyder', {'weight': 1}), ('heatherredman', 'RajSinghSeattle', {'weight': 1}), ('heatherredman', 'kirbywinfield', {'weight': 1}), ('heatherredman', 'stevesi', {'weight': 1}), ('heatherredman', 'Ryanintheus', {'weight': 1}), ('heatherredman', 'sonalpmane', {'weight': 1}), ('heatherredman', 'SoGulley', {'weight': 1}), ('heatherredman', 'tarah', {'weight': 1}), ('heatherredman', 'Kristen_Hammy', {'weight': 1}), ('heatherredman', 'mcolacurcio', {'weight': 1}), ('heatherredman', 'marybethlambert', {'weight': 1}), ('danshapiro', 'rachelerman', {'weight': 1}), ('danshapiro', 'moniguzman', {'weight': 1}), ('danshapiro', 'KieranSnyder', {'weight': 1}), ('danshapiro', 'stevesi', {'weight': 1}), ('medinism', 'crashdev', {'weight': 1}), ('medinism', 'mattmday', {'weight': 1}), ('KieranSnyder', 'rachelerman', {'weight': 1}), ('KieranSnyder', 'toddbishop', {'weight': 1}), ('KieranSnyder', 'LeslieFeinzaig', {'weight': 1}), ('KieranSnyder', 'juliesandler', {'weight': 1}), ('KieranSnyder', 'mattmday', {'weight': 1}), ('KieranSnyder', 'etzioni', {'weight': 1}), ('KieranSnyder', 'MissDestructo', {'weight': 1}), ('KieranSnyder', 'danshapiro', {'weight': 1}), ('KieranSnyder', 'stevesi', {'weight': 1}), ('KieranSnyder', 'Kristen_Hammy', {'weight': 1}), ('KieranSnyder', 'nhuntwalker', {'weight': 1}), ('hadip', 'toddbishop', {'weight': 1}), ('hadip', 'BradSmi', {'weight': 1}), ('hadip', 'crashdev', {'weight': 1}), ('hadip', 'Rich_Barton', {'weight': 1}), ('hadip', 'medinism', {'weight': 1}), ('hadip', 'stevesi', {'weight': 1}), ('RajSinghSeattle', 'mattmcilwain', {'weight': 1}), ('RajSinghSeattle', 'matt_oppy', {'weight': 1}), ('RajSinghSeattle', 'BradSmi', {'weight': 1}), ('RajSinghSeattle', 'crashdev', {'weight': 1}), ('RajSinghSeattle', 'Rich_Barton', {'weight': 1}), ('RajSinghSeattle', 'heatherredman', {'weight': 1}), ('RajSinghSeattle', 'stevesi', {'weight': 1}), ('funcOfJoe', 'mattmcilwain', {'weight': 1}), ('funcOfJoe', 'juliesandler', {'weight': 1}), ('funcOfJoe', 'etzioni', {'weight': 1}), ('funcOfJoe', 'KieranSnyder', {'weight': 1}), ('funcOfJoe', 'hadip', {'weight': 1}), ('funcOfJoe', 'RajSinghSeattle', {'weight': 1}), ('funcOfJoe', 'stevesi', {'weight': 1}), ('kirbywinfield', 'DaveParkerSEA', {'weight': 1}), ('kirbywinfield', 'LeslieFeinzaig', {'weight': 1}), ('kirbywinfield', 'gilbert', {'weight': 1}), ('kirbywinfield', 'juliesandler', {'weight': 1}), ('kirbywinfield', 'lovelletters', {'weight': 1}), ('kirbywinfield', 'etzioni', {'weight': 1}), ('kirbywinfield', 'heatherredman', {'weight': 1}), ('kirbywinfield', 'stevesi', {'weight': 1}), ('kirbywinfield', 'lanctot', {'weight': 1}), ('stevesi', 'toddbishop', {'weight': 1}), ('stevesi', 'LeslieFeinzaig', {'weight': 1}), ('stevesi', 'gilbert', {'weight': 1}), ('stevesi', 'crashdev', {'weight': 1}), ('stevesi', 'ShaunaCausey', {'weight': 1}), ('stevesi', 'moniguzman', {'weight': 1}), ('stevesi', 'Rich_Barton', {'weight': 1}), ('stevesi', 'lovelletters', {'weight': 1}), ('stevesi', 'etzioni', {'weight': 1}), ('stevesi', 'MissDestructo', {'weight': 1}), ('stevesi', 'heatherredman', {'weight': 1}), ('stevesi', 'danshapiro', {'weight': 1}), ('stevesi', 'KieranSnyder', {'weight': 1}), ('stevesi', 'hadip', {'weight': 1}), ('stevesi', 'kirbywinfield', {'weight': 1}), ('stevesi', 'sonalpmane', {'weight': 1}), ('stevesi', 'Kristen_Hammy', {'weight': 1}), ('stevesi', 'JenMsft', {'weight': 1}), ('Ryanintheus', 'rachelerman', {'weight': 1}), ('Ryanintheus', 'DaveParkerSEA', {'weight': 1}), ('Ryanintheus', 'toddbishop', {'weight': 1}), ('Ryanintheus', 'LeslieFeinzaig', {'weight': 1}), ('Ryanintheus', 'moniguzman', {'weight': 1}), ('Ryanintheus', 'lovelletters', {'weight': 1}), ('Ryanintheus', 'MissDestructo', {'weight': 1}), ('Ryanintheus', 'heatherredman', {'weight': 1}), ('Ryanintheus', 'RajSinghSeattle', {'weight': 1}), ('Ryanintheus', 'kirbywinfield', {'weight': 1}), ('Ryanintheus', 'Jenerationy', {'weight': 1}), ('Ryanintheus', 'nhuntwalker', {'weight': 1}), ('Ryanintheus', 'JenMsft', {'weight': 1}), ('Ryanintheus', 'sarahstood', {'weight': 1}), ('sonalpmane', 'rachelerman', {'weight': 1}), ('sonalpmane', 'LeslieFeinzaig', {'weight': 1}), ('sonalpmane', 'juliesandler', {'weight': 1}), ('sonalpmane', 'crashdev', {'weight': 1}), ('sonalpmane', 'moniguzman', {'weight': 1}), ('sonalpmane', 'lovelletters', {'weight': 1}), ('sonalpmane', 'MissDestructo', {'weight': 1}), ('sonalpmane', 'heatherredman', {'weight': 1}), ('sonalpmane', 'danshapiro', {'weight': 1}), ('sonalpmane', 'KieranSnyder', {'weight': 1}), ('sonalpmane', 'hadip', {'weight': 1}), ('sonalpmane', 'stevesi', {'weight': 1}), ('SoGulley', 'DaveParkerSEA', {'weight': 1}), ('SoGulley', 'toddbishop', {'weight': 1}), ('SoGulley', 'LeslieFeinzaig', {'weight': 1}), ('SoGulley', 'juliesandler', {'weight': 1}), ('SoGulley', 'BradSmi', {'weight': 1}), ('SoGulley', 'crashdev', {'weight': 1}), ('SoGulley', 'ShaunaCausey', {'weight': 1}), ('SoGulley', 'moniguzman', {'weight': 1}), ('SoGulley', 'lovelletters', {'weight': 1}), ('SoGulley', 'MissDestructo', {'weight': 1}), ('SoGulley', 'heatherredman', {'weight': 1}), ('SoGulley', 'medinism', {'weight': 1}), ('SoGulley', 'KieranSnyder', {'weight': 1}), ('SoGulley', 'hadip', {'weight': 1}), ('SoGulley', 'RajSinghSeattle', {'weight': 1}), ('SoGulley', 'kirbywinfield', {'weight': 1}), ('SoGulley', 'sonalpmane', {'weight': 1}), ('SoGulley', 'tarah', {'weight': 1}), ('SoGulley', 'Jenerationy', {'weight': 1}), ('SoGulley', 'Kristen_Hammy', {'weight': 1}), ('SoGulley', 'nhuntwalker', {'weight': 1}), ('SoGulley', 'PeterHamilton', {'weight': 1}), ('jinman', 'DaveParkerSEA', {'weight': 1}), ('jinman', 'toddbishop', {'weight': 1}), ('jinman', 'crashdev', {'weight': 1}), ('jinman', 'ShaunaCausey', {'weight': 1}), ('jinman', 'hadip', {'weight': 1}), ('jinman', 'stevesi', {'weight': 1}), ('Jenerationy', 'rachelerman', {'weight': 1}), ('Jenerationy', 'toddbishop', {'weight': 1}), ('Jenerationy', 'ashannstew', {'weight': 1}), ('Jenerationy', 'gilbert', {'weight': 1}), ('Jenerationy', 'juliesandler', {'weight': 1}), ('Jenerationy', 'crashdev', {'weight': 1}), ('Jenerationy', 'ShaunaCausey', {'weight': 1}), ('Jenerationy', 'moniguzman', {'weight': 1}), ('Jenerationy', 'danshapiro', {'weight': 1}), ('Jenerationy', 'hadip', {'weight': 1}), ('Jenerationy', 'Ryanintheus', {'weight': 1}), ('Jenerationy', 'PeterHamilton', {'weight': 1}), ('lanctot', 'toddbishop', {'weight': 1}), ('lanctot', 'ashannstew', {'weight': 1}), ('lanctot', 'gilbert', {'weight': 1}), ('lanctot', 'BradSmi', {'weight': 1}), ('lanctot', 'ShaunaCausey', {'weight': 1}), ('lanctot', 'moniguzman', {'weight': 1}), ('lanctot', 'lovelletters', {'weight': 1}), ('lanctot', 'heatherredman', {'weight': 1}), ('lanctot', 'hadip', {'weight': 1}), ('lanctot', 'kirbywinfield', {'weight': 1}), ('lanctot', 'stevesi', {'weight': 1}), ('Kristen_Hammy', 'mattmcilwain', {'weight': 1}), ('Kristen_Hammy', 'toddbishop', {'weight': 1}), ('Kristen_Hammy', 'juliesandler', {'weight': 1}), ('Kristen_Hammy', 'crashdev', {'weight': 1}), ('Kristen_Hammy', 'ShaunaCausey', {'weight': 1}), ('Kristen_Hammy', 'Rich_Barton', {'weight': 1}), ('Kristen_Hammy', 'heatherredman', {'weight': 1}), ('Kristen_Hammy', 'danshapiro', {'weight': 1}), ('Kristen_Hammy', 'KieranSnyder', {'weight': 1}), ('nhuntwalker', 'DaveParkerSEA', {'weight': 1}), ('nhuntwalker', 'KieranSnyder', {'weight': 1}), ('nhuntwalker', 'hadip', {'weight': 1}), ('nhuntwalker', 'Ryanintheus', {'weight': 1}), ('nhuntwalker', 'SoGulley', {'weight': 1}), ('nhuntwalker', 'tarah', {'weight': 1}), ('nhuntwalker', 'JenMsft', {'weight': 1}), ('JenMsft', 'akipman', {'weight': 1}), ('JenMsft', 'BradSmi', {'weight': 1}), ('JenMsft', 'KieranSnyder', {'weight': 1}), ('JenMsft', 'stevesi', {'weight': 1}), ('PeterHamilton', 'toddbishop', {'weight': 1}), ('PeterHamilton', 'crashdev', {'weight': 1}), ('PeterHamilton', 'ShaunaCausey', {'weight': 1}), ('PeterHamilton', 'moniguzman', {'weight': 1}), ('PeterHamilton', 'lovelletters', {'weight': 1}), ('PeterHamilton', 'MissDestructo', {'weight': 1}), ('PeterHamilton', 'danshapiro', {'weight': 1}), ('PeterHamilton', 'Jenerationy', {'weight': 1}), ('sarahstood', 'toddbishop', {'weight': 1}), ('sarahstood', 'juliesandler', {'weight': 1}), ('sarahstood', 'crashdev', {'weight': 1}), ('sarahstood', 'ShaunaCausey', {'weight': 1}), ('sarahstood', 'moniguzman', {'weight': 1}), ('sarahstood', 'lovelletters', {'weight': 1}), ('sarahstood', 'kirbywinfield', {'weight': 1}), ('sarahstood', 'Ryanintheus', {'weight': 1}), ('mcolacurcio', 'toddbishop', {'weight': 1}), ('mcolacurcio', 'LeslieFeinzaig', {'weight': 1}), ('mcolacurcio', 'ShaunaCausey', {'weight': 1}), ('mcolacurcio', 'moniguzman', {'weight': 1}), ('mcolacurcio', 'Rich_Barton', {'weight': 1}), ('mcolacurcio', 'lovelletters', {'weight': 1}), ('mcolacurcio', 'heatherredman', {'weight': 1}), ('mcolacurcio', 'hadip', {'weight': 1}), ('mcolacurcio', 'kirbywinfield', {'weight': 1}), ('mcolacurcio', 'stevesi', {'weight': 1}), ('mcolacurcio', 'Kristen_Hammy', {'weight': 1}), ('mcolacurcio', 'PeterHamilton', {'weight': 1}), ('marybethlambert', 'rachelerman', {'weight': 1}), ('marybethlambert', 'toddbishop', {'weight': 1}), ('marybethlambert', 'ShaunaCausey', {'weight': 1}), ('marybethlambert', 'moniguzman', {'weight': 1}), ('marybethlambert', 'heatherredman', {'weight': 1})])"
            ]
          },
          "metadata": {},
          "execution_count": 11
        }
      ]
    },
    {
      "cell_type": "code",
      "source": [
        "attr_d=pd.read_excel(linkGoogle,sheet_name='attributes')\n",
        "attr_d"
      ],
      "metadata": {
        "collapsed": true,
        "colab": {
          "base_uri": "https://localhost:8080/",
          "height": 1000
        },
        "id": "pfUIeYgpyWyY",
        "outputId": "81cf6daf-1fb2-4d1f-cb75-2d19998e87ef"
      },
      "execution_count": 12,
      "outputs": [
        {
          "output_type": "execute_result",
          "data": {
            "text/plain": [
              "               name  male  followers\n",
              "0       rachelerman     0       7139\n",
              "1      mattmcilwain     1       2804\n",
              "2     DaveParkerSEA     1       3328\n",
              "3        toddbishop     1      24500\n",
              "4        ashannstew     0       3382\n",
              "5    LeslieFeinzaig     0      15900\n",
              "6           akipman     1      29500\n",
              "7         matt_oppy     1       4847\n",
              "8           gilbert     1      25800\n",
              "9      juliesandler     0       7031\n",
              "10          BradSmi     1      96300\n",
              "11         crashdev     0       8773\n",
              "12     ShaunaCausey     0      47400\n",
              "13     john_gabbert     1       2482\n",
              "14       moniguzman     0      29000\n",
              "15         mattmday     1       5750\n",
              "16      Rich_Barton     1      31300\n",
              "17            daryn     1       2378\n",
              "18     lovelletters     0       4553\n",
              "19          etzioni     1      27400\n",
              "20    MissDestructo     0      41800\n",
              "21    heatherredman     0       3957\n",
              "22       danshapiro     1      10900\n",
              "23         medinism     1       2084\n",
              "24     KieranSnyder     0      15400\n",
              "25            hadip     1      43300\n",
              "26  RajSinghSeattle     1       4991\n",
              "27        funcOfJoe     1       9510\n",
              "28    kirbywinfield     1       6230\n",
              "29          stevesi     1     206666\n",
              "30      Ryanintheus     1     194239\n",
              "31       sonalpmane     0       1215\n",
              "32         SoGulley     0        965\n",
              "33    2morrowknight     1     737130\n",
              "34           jinman     1       4781\n",
              "35            tarah     0      48992\n",
              "36      Jenerationy     0      13272\n",
              "37          lanctot     1       5519\n",
              "38    Kristen_Hammy     0       1196\n",
              "39      nhuntwalker     1       5032\n",
              "40     eugenio_pace     1       4908\n",
              "41          JenMsft     0      90185\n",
              "42    PeterHamilton     1       7329\n",
              "43       sarahstood     0       1118\n",
              "44      mcolacurcio     0       2039\n",
              "45  marybethlambert     0       1010"
            ],
            "text/html": [
              "\n",
              "  <div id=\"df-20086bd6-5f79-4b79-ac97-c74230fcdad3\" class=\"colab-df-container\">\n",
              "    <div>\n",
              "<style scoped>\n",
              "    .dataframe tbody tr th:only-of-type {\n",
              "        vertical-align: middle;\n",
              "    }\n",
              "\n",
              "    .dataframe tbody tr th {\n",
              "        vertical-align: top;\n",
              "    }\n",
              "\n",
              "    .dataframe thead th {\n",
              "        text-align: right;\n",
              "    }\n",
              "</style>\n",
              "<table border=\"1\" class=\"dataframe\">\n",
              "  <thead>\n",
              "    <tr style=\"text-align: right;\">\n",
              "      <th></th>\n",
              "      <th>name</th>\n",
              "      <th>male</th>\n",
              "      <th>followers</th>\n",
              "    </tr>\n",
              "  </thead>\n",
              "  <tbody>\n",
              "    <tr>\n",
              "      <th>0</th>\n",
              "      <td>rachelerman</td>\n",
              "      <td>0</td>\n",
              "      <td>7139</td>\n",
              "    </tr>\n",
              "    <tr>\n",
              "      <th>1</th>\n",
              "      <td>mattmcilwain</td>\n",
              "      <td>1</td>\n",
              "      <td>2804</td>\n",
              "    </tr>\n",
              "    <tr>\n",
              "      <th>2</th>\n",
              "      <td>DaveParkerSEA</td>\n",
              "      <td>1</td>\n",
              "      <td>3328</td>\n",
              "    </tr>\n",
              "    <tr>\n",
              "      <th>3</th>\n",
              "      <td>toddbishop</td>\n",
              "      <td>1</td>\n",
              "      <td>24500</td>\n",
              "    </tr>\n",
              "    <tr>\n",
              "      <th>4</th>\n",
              "      <td>ashannstew</td>\n",
              "      <td>0</td>\n",
              "      <td>3382</td>\n",
              "    </tr>\n",
              "    <tr>\n",
              "      <th>5</th>\n",
              "      <td>LeslieFeinzaig</td>\n",
              "      <td>0</td>\n",
              "      <td>15900</td>\n",
              "    </tr>\n",
              "    <tr>\n",
              "      <th>6</th>\n",
              "      <td>akipman</td>\n",
              "      <td>1</td>\n",
              "      <td>29500</td>\n",
              "    </tr>\n",
              "    <tr>\n",
              "      <th>7</th>\n",
              "      <td>matt_oppy</td>\n",
              "      <td>1</td>\n",
              "      <td>4847</td>\n",
              "    </tr>\n",
              "    <tr>\n",
              "      <th>8</th>\n",
              "      <td>gilbert</td>\n",
              "      <td>1</td>\n",
              "      <td>25800</td>\n",
              "    </tr>\n",
              "    <tr>\n",
              "      <th>9</th>\n",
              "      <td>juliesandler</td>\n",
              "      <td>0</td>\n",
              "      <td>7031</td>\n",
              "    </tr>\n",
              "    <tr>\n",
              "      <th>10</th>\n",
              "      <td>BradSmi</td>\n",
              "      <td>1</td>\n",
              "      <td>96300</td>\n",
              "    </tr>\n",
              "    <tr>\n",
              "      <th>11</th>\n",
              "      <td>crashdev</td>\n",
              "      <td>0</td>\n",
              "      <td>8773</td>\n",
              "    </tr>\n",
              "    <tr>\n",
              "      <th>12</th>\n",
              "      <td>ShaunaCausey</td>\n",
              "      <td>0</td>\n",
              "      <td>47400</td>\n",
              "    </tr>\n",
              "    <tr>\n",
              "      <th>13</th>\n",
              "      <td>john_gabbert</td>\n",
              "      <td>1</td>\n",
              "      <td>2482</td>\n",
              "    </tr>\n",
              "    <tr>\n",
              "      <th>14</th>\n",
              "      <td>moniguzman</td>\n",
              "      <td>0</td>\n",
              "      <td>29000</td>\n",
              "    </tr>\n",
              "    <tr>\n",
              "      <th>15</th>\n",
              "      <td>mattmday</td>\n",
              "      <td>1</td>\n",
              "      <td>5750</td>\n",
              "    </tr>\n",
              "    <tr>\n",
              "      <th>16</th>\n",
              "      <td>Rich_Barton</td>\n",
              "      <td>1</td>\n",
              "      <td>31300</td>\n",
              "    </tr>\n",
              "    <tr>\n",
              "      <th>17</th>\n",
              "      <td>daryn</td>\n",
              "      <td>1</td>\n",
              "      <td>2378</td>\n",
              "    </tr>\n",
              "    <tr>\n",
              "      <th>18</th>\n",
              "      <td>lovelletters</td>\n",
              "      <td>0</td>\n",
              "      <td>4553</td>\n",
              "    </tr>\n",
              "    <tr>\n",
              "      <th>19</th>\n",
              "      <td>etzioni</td>\n",
              "      <td>1</td>\n",
              "      <td>27400</td>\n",
              "    </tr>\n",
              "    <tr>\n",
              "      <th>20</th>\n",
              "      <td>MissDestructo</td>\n",
              "      <td>0</td>\n",
              "      <td>41800</td>\n",
              "    </tr>\n",
              "    <tr>\n",
              "      <th>21</th>\n",
              "      <td>heatherredman</td>\n",
              "      <td>0</td>\n",
              "      <td>3957</td>\n",
              "    </tr>\n",
              "    <tr>\n",
              "      <th>22</th>\n",
              "      <td>danshapiro</td>\n",
              "      <td>1</td>\n",
              "      <td>10900</td>\n",
              "    </tr>\n",
              "    <tr>\n",
              "      <th>23</th>\n",
              "      <td>medinism</td>\n",
              "      <td>1</td>\n",
              "      <td>2084</td>\n",
              "    </tr>\n",
              "    <tr>\n",
              "      <th>24</th>\n",
              "      <td>KieranSnyder</td>\n",
              "      <td>0</td>\n",
              "      <td>15400</td>\n",
              "    </tr>\n",
              "    <tr>\n",
              "      <th>25</th>\n",
              "      <td>hadip</td>\n",
              "      <td>1</td>\n",
              "      <td>43300</td>\n",
              "    </tr>\n",
              "    <tr>\n",
              "      <th>26</th>\n",
              "      <td>RajSinghSeattle</td>\n",
              "      <td>1</td>\n",
              "      <td>4991</td>\n",
              "    </tr>\n",
              "    <tr>\n",
              "      <th>27</th>\n",
              "      <td>funcOfJoe</td>\n",
              "      <td>1</td>\n",
              "      <td>9510</td>\n",
              "    </tr>\n",
              "    <tr>\n",
              "      <th>28</th>\n",
              "      <td>kirbywinfield</td>\n",
              "      <td>1</td>\n",
              "      <td>6230</td>\n",
              "    </tr>\n",
              "    <tr>\n",
              "      <th>29</th>\n",
              "      <td>stevesi</td>\n",
              "      <td>1</td>\n",
              "      <td>206666</td>\n",
              "    </tr>\n",
              "    <tr>\n",
              "      <th>30</th>\n",
              "      <td>Ryanintheus</td>\n",
              "      <td>1</td>\n",
              "      <td>194239</td>\n",
              "    </tr>\n",
              "    <tr>\n",
              "      <th>31</th>\n",
              "      <td>sonalpmane</td>\n",
              "      <td>0</td>\n",
              "      <td>1215</td>\n",
              "    </tr>\n",
              "    <tr>\n",
              "      <th>32</th>\n",
              "      <td>SoGulley</td>\n",
              "      <td>0</td>\n",
              "      <td>965</td>\n",
              "    </tr>\n",
              "    <tr>\n",
              "      <th>33</th>\n",
              "      <td>2morrowknight</td>\n",
              "      <td>1</td>\n",
              "      <td>737130</td>\n",
              "    </tr>\n",
              "    <tr>\n",
              "      <th>34</th>\n",
              "      <td>jinman</td>\n",
              "      <td>1</td>\n",
              "      <td>4781</td>\n",
              "    </tr>\n",
              "    <tr>\n",
              "      <th>35</th>\n",
              "      <td>tarah</td>\n",
              "      <td>0</td>\n",
              "      <td>48992</td>\n",
              "    </tr>\n",
              "    <tr>\n",
              "      <th>36</th>\n",
              "      <td>Jenerationy</td>\n",
              "      <td>0</td>\n",
              "      <td>13272</td>\n",
              "    </tr>\n",
              "    <tr>\n",
              "      <th>37</th>\n",
              "      <td>lanctot</td>\n",
              "      <td>1</td>\n",
              "      <td>5519</td>\n",
              "    </tr>\n",
              "    <tr>\n",
              "      <th>38</th>\n",
              "      <td>Kristen_Hammy</td>\n",
              "      <td>0</td>\n",
              "      <td>1196</td>\n",
              "    </tr>\n",
              "    <tr>\n",
              "      <th>39</th>\n",
              "      <td>nhuntwalker</td>\n",
              "      <td>1</td>\n",
              "      <td>5032</td>\n",
              "    </tr>\n",
              "    <tr>\n",
              "      <th>40</th>\n",
              "      <td>eugenio_pace</td>\n",
              "      <td>1</td>\n",
              "      <td>4908</td>\n",
              "    </tr>\n",
              "    <tr>\n",
              "      <th>41</th>\n",
              "      <td>JenMsft</td>\n",
              "      <td>0</td>\n",
              "      <td>90185</td>\n",
              "    </tr>\n",
              "    <tr>\n",
              "      <th>42</th>\n",
              "      <td>PeterHamilton</td>\n",
              "      <td>1</td>\n",
              "      <td>7329</td>\n",
              "    </tr>\n",
              "    <tr>\n",
              "      <th>43</th>\n",
              "      <td>sarahstood</td>\n",
              "      <td>0</td>\n",
              "      <td>1118</td>\n",
              "    </tr>\n",
              "    <tr>\n",
              "      <th>44</th>\n",
              "      <td>mcolacurcio</td>\n",
              "      <td>0</td>\n",
              "      <td>2039</td>\n",
              "    </tr>\n",
              "    <tr>\n",
              "      <th>45</th>\n",
              "      <td>marybethlambert</td>\n",
              "      <td>0</td>\n",
              "      <td>1010</td>\n",
              "    </tr>\n",
              "  </tbody>\n",
              "</table>\n",
              "</div>\n",
              "    <div class=\"colab-df-buttons\">\n",
              "\n",
              "  <div class=\"colab-df-container\">\n",
              "    <button class=\"colab-df-convert\" onclick=\"convertToInteractive('df-20086bd6-5f79-4b79-ac97-c74230fcdad3')\"\n",
              "            title=\"Convert this dataframe to an interactive table.\"\n",
              "            style=\"display:none;\">\n",
              "\n",
              "  <svg xmlns=\"http://www.w3.org/2000/svg\" height=\"24px\" viewBox=\"0 -960 960 960\">\n",
              "    <path d=\"M120-120v-720h720v720H120Zm60-500h600v-160H180v160Zm220 220h160v-160H400v160Zm0 220h160v-160H400v160ZM180-400h160v-160H180v160Zm440 0h160v-160H620v160ZM180-180h160v-160H180v160Zm440 0h160v-160H620v160Z\"/>\n",
              "  </svg>\n",
              "    </button>\n",
              "\n",
              "  <style>\n",
              "    .colab-df-container {\n",
              "      display:flex;\n",
              "      gap: 12px;\n",
              "    }\n",
              "\n",
              "    .colab-df-convert {\n",
              "      background-color: #E8F0FE;\n",
              "      border: none;\n",
              "      border-radius: 50%;\n",
              "      cursor: pointer;\n",
              "      display: none;\n",
              "      fill: #1967D2;\n",
              "      height: 32px;\n",
              "      padding: 0 0 0 0;\n",
              "      width: 32px;\n",
              "    }\n",
              "\n",
              "    .colab-df-convert:hover {\n",
              "      background-color: #E2EBFA;\n",
              "      box-shadow: 0px 1px 2px rgba(60, 64, 67, 0.3), 0px 1px 3px 1px rgba(60, 64, 67, 0.15);\n",
              "      fill: #174EA6;\n",
              "    }\n",
              "\n",
              "    .colab-df-buttons div {\n",
              "      margin-bottom: 4px;\n",
              "    }\n",
              "\n",
              "    [theme=dark] .colab-df-convert {\n",
              "      background-color: #3B4455;\n",
              "      fill: #D2E3FC;\n",
              "    }\n",
              "\n",
              "    [theme=dark] .colab-df-convert:hover {\n",
              "      background-color: #434B5C;\n",
              "      box-shadow: 0px 1px 3px 1px rgba(0, 0, 0, 0.15);\n",
              "      filter: drop-shadow(0px 1px 2px rgba(0, 0, 0, 0.3));\n",
              "      fill: #FFFFFF;\n",
              "    }\n",
              "  </style>\n",
              "\n",
              "    <script>\n",
              "      const buttonEl =\n",
              "        document.querySelector('#df-20086bd6-5f79-4b79-ac97-c74230fcdad3 button.colab-df-convert');\n",
              "      buttonEl.style.display =\n",
              "        google.colab.kernel.accessAllowed ? 'block' : 'none';\n",
              "\n",
              "      async function convertToInteractive(key) {\n",
              "        const element = document.querySelector('#df-20086bd6-5f79-4b79-ac97-c74230fcdad3');\n",
              "        const dataTable =\n",
              "          await google.colab.kernel.invokeFunction('convertToInteractive',\n",
              "                                                    [key], {});\n",
              "        if (!dataTable) return;\n",
              "\n",
              "        const docLinkHtml = 'Like what you see? Visit the ' +\n",
              "          '<a target=\"_blank\" href=https://colab.research.google.com/notebooks/data_table.ipynb>data table notebook</a>'\n",
              "          + ' to learn more about interactive tables.';\n",
              "        element.innerHTML = '';\n",
              "        dataTable['output_type'] = 'display_data';\n",
              "        await google.colab.output.renderOutput(dataTable, element);\n",
              "        const docLink = document.createElement('div');\n",
              "        docLink.innerHTML = docLinkHtml;\n",
              "        element.appendChild(docLink);\n",
              "      }\n",
              "    </script>\n",
              "  </div>\n",
              "\n",
              "\n",
              "<div id=\"df-9e407ee7-da15-4280-8b5e-3af5dac05d30\">\n",
              "  <button class=\"colab-df-quickchart\" onclick=\"quickchart('df-9e407ee7-da15-4280-8b5e-3af5dac05d30')\"\n",
              "            title=\"Suggest charts\"\n",
              "            style=\"display:none;\">\n",
              "\n",
              "<svg xmlns=\"http://www.w3.org/2000/svg\" height=\"24px\"viewBox=\"0 0 24 24\"\n",
              "     width=\"24px\">\n",
              "    <g>\n",
              "        <path d=\"M19 3H5c-1.1 0-2 .9-2 2v14c0 1.1.9 2 2 2h14c1.1 0 2-.9 2-2V5c0-1.1-.9-2-2-2zM9 17H7v-7h2v7zm4 0h-2V7h2v10zm4 0h-2v-4h2v4z\"/>\n",
              "    </g>\n",
              "</svg>\n",
              "  </button>\n",
              "\n",
              "<style>\n",
              "  .colab-df-quickchart {\n",
              "      --bg-color: #E8F0FE;\n",
              "      --fill-color: #1967D2;\n",
              "      --hover-bg-color: #E2EBFA;\n",
              "      --hover-fill-color: #174EA6;\n",
              "      --disabled-fill-color: #AAA;\n",
              "      --disabled-bg-color: #DDD;\n",
              "  }\n",
              "\n",
              "  [theme=dark] .colab-df-quickchart {\n",
              "      --bg-color: #3B4455;\n",
              "      --fill-color: #D2E3FC;\n",
              "      --hover-bg-color: #434B5C;\n",
              "      --hover-fill-color: #FFFFFF;\n",
              "      --disabled-bg-color: #3B4455;\n",
              "      --disabled-fill-color: #666;\n",
              "  }\n",
              "\n",
              "  .colab-df-quickchart {\n",
              "    background-color: var(--bg-color);\n",
              "    border: none;\n",
              "    border-radius: 50%;\n",
              "    cursor: pointer;\n",
              "    display: none;\n",
              "    fill: var(--fill-color);\n",
              "    height: 32px;\n",
              "    padding: 0;\n",
              "    width: 32px;\n",
              "  }\n",
              "\n",
              "  .colab-df-quickchart:hover {\n",
              "    background-color: var(--hover-bg-color);\n",
              "    box-shadow: 0 1px 2px rgba(60, 64, 67, 0.3), 0 1px 3px 1px rgba(60, 64, 67, 0.15);\n",
              "    fill: var(--button-hover-fill-color);\n",
              "  }\n",
              "\n",
              "  .colab-df-quickchart-complete:disabled,\n",
              "  .colab-df-quickchart-complete:disabled:hover {\n",
              "    background-color: var(--disabled-bg-color);\n",
              "    fill: var(--disabled-fill-color);\n",
              "    box-shadow: none;\n",
              "  }\n",
              "\n",
              "  .colab-df-spinner {\n",
              "    border: 2px solid var(--fill-color);\n",
              "    border-color: transparent;\n",
              "    border-bottom-color: var(--fill-color);\n",
              "    animation:\n",
              "      spin 1s steps(1) infinite;\n",
              "  }\n",
              "\n",
              "  @keyframes spin {\n",
              "    0% {\n",
              "      border-color: transparent;\n",
              "      border-bottom-color: var(--fill-color);\n",
              "      border-left-color: var(--fill-color);\n",
              "    }\n",
              "    20% {\n",
              "      border-color: transparent;\n",
              "      border-left-color: var(--fill-color);\n",
              "      border-top-color: var(--fill-color);\n",
              "    }\n",
              "    30% {\n",
              "      border-color: transparent;\n",
              "      border-left-color: var(--fill-color);\n",
              "      border-top-color: var(--fill-color);\n",
              "      border-right-color: var(--fill-color);\n",
              "    }\n",
              "    40% {\n",
              "      border-color: transparent;\n",
              "      border-right-color: var(--fill-color);\n",
              "      border-top-color: var(--fill-color);\n",
              "    }\n",
              "    60% {\n",
              "      border-color: transparent;\n",
              "      border-right-color: var(--fill-color);\n",
              "    }\n",
              "    80% {\n",
              "      border-color: transparent;\n",
              "      border-right-color: var(--fill-color);\n",
              "      border-bottom-color: var(--fill-color);\n",
              "    }\n",
              "    90% {\n",
              "      border-color: transparent;\n",
              "      border-bottom-color: var(--fill-color);\n",
              "    }\n",
              "  }\n",
              "</style>\n",
              "\n",
              "  <script>\n",
              "    async function quickchart(key) {\n",
              "      const quickchartButtonEl =\n",
              "        document.querySelector('#' + key + ' button');\n",
              "      quickchartButtonEl.disabled = true;  // To prevent multiple clicks.\n",
              "      quickchartButtonEl.classList.add('colab-df-spinner');\n",
              "      try {\n",
              "        const charts = await google.colab.kernel.invokeFunction(\n",
              "            'suggestCharts', [key], {});\n",
              "      } catch (error) {\n",
              "        console.error('Error during call to suggestCharts:', error);\n",
              "      }\n",
              "      quickchartButtonEl.classList.remove('colab-df-spinner');\n",
              "      quickchartButtonEl.classList.add('colab-df-quickchart-complete');\n",
              "    }\n",
              "    (() => {\n",
              "      let quickchartButtonEl =\n",
              "        document.querySelector('#df-9e407ee7-da15-4280-8b5e-3af5dac05d30 button');\n",
              "      quickchartButtonEl.style.display =\n",
              "        google.colab.kernel.accessAllowed ? 'block' : 'none';\n",
              "    })();\n",
              "  </script>\n",
              "</div>\n",
              "\n",
              "  <div id=\"id_0ad176fd-2825-4c12-9a85-77bd08f220e8\">\n",
              "    <style>\n",
              "      .colab-df-generate {\n",
              "        background-color: #E8F0FE;\n",
              "        border: none;\n",
              "        border-radius: 50%;\n",
              "        cursor: pointer;\n",
              "        display: none;\n",
              "        fill: #1967D2;\n",
              "        height: 32px;\n",
              "        padding: 0 0 0 0;\n",
              "        width: 32px;\n",
              "      }\n",
              "\n",
              "      .colab-df-generate:hover {\n",
              "        background-color: #E2EBFA;\n",
              "        box-shadow: 0px 1px 2px rgba(60, 64, 67, 0.3), 0px 1px 3px 1px rgba(60, 64, 67, 0.15);\n",
              "        fill: #174EA6;\n",
              "      }\n",
              "\n",
              "      [theme=dark] .colab-df-generate {\n",
              "        background-color: #3B4455;\n",
              "        fill: #D2E3FC;\n",
              "      }\n",
              "\n",
              "      [theme=dark] .colab-df-generate:hover {\n",
              "        background-color: #434B5C;\n",
              "        box-shadow: 0px 1px 3px 1px rgba(0, 0, 0, 0.15);\n",
              "        filter: drop-shadow(0px 1px 2px rgba(0, 0, 0, 0.3));\n",
              "        fill: #FFFFFF;\n",
              "      }\n",
              "    </style>\n",
              "    <button class=\"colab-df-generate\" onclick=\"generateWithVariable('attr_d')\"\n",
              "            title=\"Generate code using this dataframe.\"\n",
              "            style=\"display:none;\">\n",
              "\n",
              "  <svg xmlns=\"http://www.w3.org/2000/svg\" height=\"24px\"viewBox=\"0 0 24 24\"\n",
              "       width=\"24px\">\n",
              "    <path d=\"M7,19H8.4L18.45,9,17,7.55,7,17.6ZM5,21V16.75L18.45,3.32a2,2,0,0,1,2.83,0l1.4,1.43a1.91,1.91,0,0,1,.58,1.4,1.91,1.91,0,0,1-.58,1.4L9.25,21ZM18.45,9,17,7.55Zm-12,3A5.31,5.31,0,0,0,4.9,8.1,5.31,5.31,0,0,0,1,6.5,5.31,5.31,0,0,0,4.9,4.9,5.31,5.31,0,0,0,6.5,1,5.31,5.31,0,0,0,8.1,4.9,5.31,5.31,0,0,0,12,6.5,5.46,5.46,0,0,0,6.5,12Z\"/>\n",
              "  </svg>\n",
              "    </button>\n",
              "    <script>\n",
              "      (() => {\n",
              "      const buttonEl =\n",
              "        document.querySelector('#id_0ad176fd-2825-4c12-9a85-77bd08f220e8 button.colab-df-generate');\n",
              "      buttonEl.style.display =\n",
              "        google.colab.kernel.accessAllowed ? 'block' : 'none';\n",
              "\n",
              "      buttonEl.onclick = () => {\n",
              "        google.colab.notebook.generateWithVariable('attr_d');\n",
              "      }\n",
              "      })();\n",
              "    </script>\n",
              "  </div>\n",
              "\n",
              "    </div>\n",
              "  </div>\n"
            ],
            "application/vnd.google.colaboratory.intrinsic+json": {
              "type": "dataframe",
              "variable_name": "attr_d",
              "summary": "{\n  \"name\": \"attr_d\",\n  \"rows\": 46,\n  \"fields\": [\n    {\n      \"column\": \"name\",\n      \"properties\": {\n        \"dtype\": \"string\",\n        \"num_unique_values\": 46,\n        \"samples\": [\n          \"nhuntwalker\",\n          \"hadip\",\n          \"RajSinghSeattle\"\n        ],\n        \"semantic_type\": \"\",\n        \"description\": \"\"\n      }\n    },\n    {\n      \"column\": \"male\",\n      \"properties\": {\n        \"dtype\": \"number\",\n        \"std\": 0,\n        \"min\": 0,\n        \"max\": 1,\n        \"num_unique_values\": 2,\n        \"samples\": [\n          1,\n          0\n        ],\n        \"semantic_type\": \"\",\n        \"description\": \"\"\n      }\n    },\n    {\n      \"column\": \"followers\",\n      \"properties\": {\n        \"dtype\": \"number\",\n        \"std\": 113699,\n        \"min\": 965,\n        \"max\": 737130,\n        \"num_unique_values\": 46,\n        \"samples\": [\n          5032,\n          43300\n        ],\n        \"semantic_type\": \"\",\n        \"description\": \"\"\n      }\n    }\n  ]\n}"
            }
          },
          "metadata": {},
          "execution_count": 12
        }
      ]
    },
    {
      "cell_type": "code",
      "source": [
        "{n: m for n, m in zip(attr_d.name, attr_d.male)}\n"
      ],
      "metadata": {
        "collapsed": true,
        "colab": {
          "base_uri": "https://localhost:8080/"
        },
        "id": "6wD0bQvF2Ymr",
        "outputId": "bb8d31c3-c3b9-45bc-dd4b-960f4c671e4f"
      },
      "execution_count": 13,
      "outputs": [
        {
          "output_type": "execute_result",
          "data": {
            "text/plain": [
              "{'rachelerman': 0,\n",
              " 'mattmcilwain': 1,\n",
              " 'DaveParkerSEA': 1,\n",
              " 'toddbishop': 1,\n",
              " 'ashannstew': 0,\n",
              " 'LeslieFeinzaig': 0,\n",
              " 'akipman': 1,\n",
              " 'matt_oppy': 1,\n",
              " 'gilbert': 1,\n",
              " 'juliesandler': 0,\n",
              " 'BradSmi': 1,\n",
              " 'crashdev': 0,\n",
              " 'ShaunaCausey': 0,\n",
              " 'john_gabbert': 1,\n",
              " 'moniguzman': 0,\n",
              " 'mattmday': 1,\n",
              " 'Rich_Barton': 1,\n",
              " 'daryn': 1,\n",
              " 'lovelletters': 0,\n",
              " 'etzioni': 1,\n",
              " 'MissDestructo': 0,\n",
              " 'heatherredman': 0,\n",
              " 'danshapiro': 1,\n",
              " 'medinism': 1,\n",
              " 'KieranSnyder': 0,\n",
              " 'hadip': 1,\n",
              " 'RajSinghSeattle': 1,\n",
              " 'funcOfJoe': 1,\n",
              " 'kirbywinfield': 1,\n",
              " 'stevesi': 1,\n",
              " 'Ryanintheus': 1,\n",
              " 'sonalpmane': 0,\n",
              " 'SoGulley': 0,\n",
              " '2morrowknight': 1,\n",
              " 'jinman': 1,\n",
              " 'tarah': 0,\n",
              " 'Jenerationy': 0,\n",
              " 'lanctot': 1,\n",
              " 'Kristen_Hammy': 0,\n",
              " 'nhuntwalker': 1,\n",
              " 'eugenio_pace': 1,\n",
              " 'JenMsft': 0,\n",
              " 'PeterHamilton': 1,\n",
              " 'sarahstood': 0,\n",
              " 'mcolacurcio': 0,\n",
              " 'marybethlambert': 0}"
            ]
          },
          "metadata": {},
          "execution_count": 13
        }
      ]
    },
    {
      "cell_type": "code",
      "source": [
        "attrDic_male={n:m for n,m in zip(attr_d.name,attr_d.male)}\n",
        "attrDic_foll={n:m for n,m in zip(attr_d.name,attr_d.followers)}\n",
        "nx.set_node_attributes(graph_edgelist_d,attrDic_foll , \"followers\")\n",
        "nx.set_node_attributes(graph_edgelist_d,attrDic_male , \"male\")"
      ],
      "metadata": {
        "id": "29sWtUia2dBl"
      },
      "execution_count": 14,
      "outputs": []
    },
    {
      "cell_type": "code",
      "source": [
        "graph_edgelist_d.nodes.data()"
      ],
      "metadata": {
        "collapsed": true,
        "colab": {
          "base_uri": "https://localhost:8080/"
        },
        "id": "oPkEzZC85C44",
        "outputId": "eadf5e52-5407-4b78-d600-adb279ca0ffc"
      },
      "execution_count": 15,
      "outputs": [
        {
          "output_type": "execute_result",
          "data": {
            "text/plain": [
              "NodeDataView({'rachelerman': {'followers': 7139, 'male': 0}, 'mattmcilwain': {'followers': 2804, 'male': 1}, 'DaveParkerSEA': {'followers': 3328, 'male': 1}, 'toddbishop': {'followers': 24500, 'male': 1}, 'ashannstew': {'followers': 3382, 'male': 0}, 'LeslieFeinzaig': {'followers': 15900, 'male': 0}, 'akipman': {'followers': 29500, 'male': 1}, 'matt_oppy': {'followers': 4847, 'male': 1}, 'gilbert': {'followers': 25800, 'male': 1}, 'juliesandler': {'followers': 7031, 'male': 0}, 'BradSmi': {'followers': 96300, 'male': 1}, 'crashdev': {'followers': 8773, 'male': 0}, 'ShaunaCausey': {'followers': 47400, 'male': 0}, 'john_gabbert': {'followers': 2482, 'male': 1}, 'moniguzman': {'followers': 29000, 'male': 0}, 'mattmday': {'followers': 5750, 'male': 1}, 'Rich_Barton': {'followers': 31300, 'male': 1}, 'daryn': {'followers': 2378, 'male': 1}, 'lovelletters': {'followers': 4553, 'male': 0}, 'etzioni': {'followers': 27400, 'male': 1}, 'MissDestructo': {'followers': 41800, 'male': 0}, 'heatherredman': {'followers': 3957, 'male': 0}, 'danshapiro': {'followers': 10900, 'male': 1}, 'medinism': {'followers': 2084, 'male': 1}, 'KieranSnyder': {'followers': 15400, 'male': 0}, 'hadip': {'followers': 43300, 'male': 1}, 'RajSinghSeattle': {'followers': 4991, 'male': 1}, 'funcOfJoe': {'followers': 9510, 'male': 1}, 'kirbywinfield': {'followers': 6230, 'male': 1}, 'stevesi': {'followers': 206666, 'male': 1}, 'Ryanintheus': {'followers': 194239, 'male': 1}, 'sonalpmane': {'followers': 1215, 'male': 0}, 'SoGulley': {'followers': 965, 'male': 0}, '2morrowknight': {'followers': 737130, 'male': 1}, 'jinman': {'followers': 4781, 'male': 1}, 'tarah': {'followers': 48992, 'male': 0}, 'Jenerationy': {'followers': 13272, 'male': 0}, 'lanctot': {'followers': 5519, 'male': 1}, 'Kristen_Hammy': {'followers': 1196, 'male': 0}, 'nhuntwalker': {'followers': 5032, 'male': 1}, 'eugenio_pace': {'followers': 4908, 'male': 1}, 'JenMsft': {'followers': 90185, 'male': 0}, 'PeterHamilton': {'followers': 7329, 'male': 1}, 'sarahstood': {'followers': 1118, 'male': 0}, 'mcolacurcio': {'followers': 2039, 'male': 0}, 'marybethlambert': {'followers': 1010, 'male': 0}})"
            ]
          },
          "metadata": {},
          "execution_count": 15
        }
      ]
    },
    {
      "cell_type": "code",
      "source": [
        "GraphFolder=\"MyGraphs/\"\n",
        "nx.write_graphml(graph_edgelist_d, GraphFolder+\"SeattleTechNetwork.graphml\")\n"
      ],
      "metadata": {
        "id": "-y2hG7SL53wX"
      },
      "execution_count": 19,
      "outputs": []
    },
    {
      "cell_type": "markdown",
      "metadata": {
        "id": "2HAJXcgPrfM2"
      },
      "source": [
        "__________\n",
        "\n",
        "Go back to the [INTRO](https://dacss-cssmeths.github.io/Networks_intro/)"
      ]
    }
  ],
  "metadata": {
    "hide_input": false,
    "kernelspec": {
      "display_name": "Python 3 (ipykernel)",
      "language": "python",
      "name": "python3"
    },
    "language_info": {
      "codemirror_mode": {
        "name": "ipython",
        "version": 3
      },
      "file_extension": ".py",
      "mimetype": "text/x-python",
      "name": "python",
      "nbconvert_exporter": "python",
      "pygments_lexer": "ipython3",
      "version": "3.10.16"
    },
    "colab": {
      "provenance": []
    }
  },
  "nbformat": 4,
  "nbformat_minor": 0
}