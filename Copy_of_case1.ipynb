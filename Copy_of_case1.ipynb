{
  "cells": [
    {
      "cell_type": "markdown",
      "metadata": {
        "id": "yEIRR8HckG1h"
      },
      "source": [
        "<center><img src=\"https://github.com/DACSS-CSSmeths/guidelines/blob/main/pics/small_logo_ccs_meths.jpg?raw=true\" width=\"700\"></center>\n"
      ]
    },
    {
      "cell_type": "markdown",
      "metadata": {
        "id": "1RpW2MpfkG1s"
      },
      "source": [
        "# PRE HOMEWORK"
      ]
    },
    {
      "cell_type": "markdown",
      "metadata": {
        "id": "y7NSqM45kG1t"
      },
      "source": [
        "# Case 1: Elites in Peru\n",
        "\n",
        "<a target=\"_blank\" href=\"https://colab.research.google.com/github/DACSS-CSSmeths/Networks_intro/blob/main/case1.ipynb\">\n",
        "  <img src=\"https://colab.research.google.com/assets/colab-badge.svg\" alt=\"Open In Colab\"/>\n",
        "</a>"
      ]
    },
    {
      "cell_type": "markdown",
      "metadata": {
        "id": "ztXPXD3FkG1v"
      },
      "source": [
        "The network we are going to build is based on the relationships studied in this [paper](https://ideas.repec.org/a/eee/quaeco/v48y2008i2p263-273.html):\n",
        "\n",
        "<img src=\"https://github.com/DACSS-CSSmeths/Networks_intro/blob/main/pics/paper.png?raw=true\" width=\"500\">\n"
      ]
    },
    {
      "cell_type": "markdown",
      "metadata": {
        "id": "fVB4o8xvkG1v"
      },
      "source": [
        "In that paper, Professor Figueroa shows this table, where 1 represents that both nodes (families) appear together at least once sitting in the same top company board. This is a good example of a _symmetric_ relationship. Notice the last column is an attribute:"
      ]
    },
    {
      "cell_type": "markdown",
      "metadata": {
        "id": "OJjGtUbSkG1z"
      },
      "source": [
        "<img src=\"https://github.com/DACSS-CSSmeths/Networks_intro/blob/main/pics/dataRed.png?raw=true\" width=\"500\">"
      ]
    },
    {
      "cell_type": "markdown",
      "metadata": {
        "id": "WbFQ98ptkG11"
      },
      "source": [
        "This is an spreadsheet, with some modifications, representing the information above:"
      ]
    },
    {
      "cell_type": "code",
      "execution_count": 1,
      "metadata": {
        "id": "hSEbaLbKkG11",
        "outputId": "6ffbda4f-b7a2-4815-f3d0-16694fee31fd",
        "colab": {
          "base_uri": "https://localhost:8080/",
          "height": 392
        }
      },
      "outputs": [
        {
          "output_type": "execute_result",
          "data": {
            "text/plain": [
              "<IPython.lib.display.IFrame at 0x7977d57a7b10>"
            ],
            "text/html": [
              "\n",
              "        <iframe\n",
              "            width=\"1200\"\n",
              "            height=\"350\"\n",
              "            src=\"https://docs.google.com/spreadsheets/d/e/2PACX-1vSHI_TY6rh9zEctvxnk83Vg88m1uXAEPA9DYT__TYOt5eS2mFovlraOXkaUcV8YZhbU30u34NfaMpY1/pubhtml\"\n",
              "            frameborder=\"0\"\n",
              "            allowfullscreen\n",
              "            \n",
              "        ></iframe>\n",
              "        "
            ]
          },
          "metadata": {},
          "execution_count": 1
        }
      ],
      "source": [
        "from IPython.display import IFrame\n",
        "IFrame(\"https://docs.google.com/spreadsheets/d/e/2PACX-1vSHI_TY6rh9zEctvxnk83Vg88m1uXAEPA9DYT__TYOt5eS2mFovlraOXkaUcV8YZhbU30u34NfaMpY1/pubhtml\",1200,350)"
      ]
    },
    {
      "cell_type": "markdown",
      "metadata": {
        "id": "__vQXzipkG2G"
      },
      "source": [
        "The modifications are:\n",
        "* I do not have \"1\"s in the diagonal (now Romero and Romero have no 1 in the intersection). This is the right way.\n",
        "* I put the the column with the attribute \"Multinacional\" in another sheet."
      ]
    },
    {
      "cell_type": "markdown",
      "metadata": {
        "id": "EHUxHOYHkG2I"
      },
      "source": [
        "We can download the **adjacency** from my Excel file from GitHub:"
      ]
    },
    {
      "cell_type": "code",
      "execution_count": 2,
      "metadata": {
        "id": "EKuFOSsekG2I"
      },
      "outputs": [],
      "source": [
        "# reading in\n",
        "import pandas as pd\n",
        "LinkToData=\"https://github.com/DACSS-CSSmeths/Networks_intro/raw/refs/heads/main/casesData/dataFigueroa.xlsx\"\n",
        "FigueData = pd.read_excel(LinkToData,sheet_name='Relationships',\n",
        "                          index_col=0) #notice!!!!!"
      ]
    },
    {
      "cell_type": "markdown",
      "metadata": {
        "id": "r7ufb2bwkG2K"
      },
      "source": [
        "We also have get the table with attributes:"
      ]
    },
    {
      "cell_type": "code",
      "execution_count": 3,
      "metadata": {
        "id": "wXfCUKT4kG2M"
      },
      "outputs": [],
      "source": [
        "FigueAttr = pd.read_excel(LinkToData,sheet_name='Attributes')"
      ]
    },
    {
      "cell_type": "markdown",
      "metadata": {
        "id": "Xq13mabwkG2M"
      },
      "source": [
        "Prepare the right (directed or undirected?) network, including  the node attributes, and save (export) the network as a _graphml_ file.\n",
        "\n",
        "__________\n",
        "\n",
        "Go back to the [INTRO](https://dacss-cssmeths.github.io/Networks_intro/)"
      ]
    },
    {
      "cell_type": "code",
      "source": [
        "# Converting df to graph\n",
        "import networkx as nx\n",
        "\n",
        "G = nx.from_pandas_adjacency(FigueData, create_using=nx.Graph())\n",
        "\n",
        "# checking if graph is undirected\n",
        "print(G.is_directed())  # Should return False if it is a undirected\n"
      ],
      "metadata": {
        "id": "77mEjStnlwk8",
        "outputId": "9d97895b-6829-4d8a-df2c-a8e77b4ba39b",
        "colab": {
          "base_uri": "https://localhost:8080/"
        }
      },
      "execution_count": 4,
      "outputs": [
        {
          "output_type": "stream",
          "name": "stdout",
          "text": [
            "False\n"
          ]
        }
      ]
    },
    {
      "cell_type": "code",
      "source": [
        "G.nodes()"
      ],
      "metadata": {
        "id": "Ad99HrGVarVm",
        "outputId": "b5381a67-699d-4086-d333-7705fc8c4a50",
        "colab": {
          "base_uri": "https://localhost:8080/"
        }
      },
      "execution_count": 5,
      "outputs": [
        {
          "output_type": "execute_result",
          "data": {
            "text/plain": [
              "NodeView(('Romero', 'Graña', 'Miro Quesada', 'Moreyra', 'Fort', 'De La Puente', 'Wiese', 'Onrubia', 'Brescia', 'Nicolini', 'Montero', 'Picaso', 'Bentin', 'Benavides', 'Bustamante', 'Woodman Pollit', 'Raffo', 'Piazza', 'Berckemeyer', 'Llosa Barber', 'Beoutis Ledesma', 'Rizo Patron', 'Montori', 'Sotomayor', 'Cilloniz', 'Ferreyros', 'Michell', 'Wong Lu', 'Batievsky Spack', 'Matos Escalada', 'Galsky', 'Lucioni', 'Rodriguez Rodríguez', 'Custer', 'Ikeda', 'Cogorno', 'Arias Davila'))"
            ]
          },
          "metadata": {},
          "execution_count": 5
        }
      ]
    },
    {
      "cell_type": "code",
      "source": [
        "nx.draw(G=G,\n",
        "        with_labels=True,\n",
        "        node_color='yellow',\n",
        "        edgecolors='black')\n"
      ],
      "metadata": {
        "id": "k1ziUqYeWdrk",
        "outputId": "e32ebba7-b34e-4a0e-ff09-e58d524c825c",
        "colab": {
          "base_uri": "https://localhost:8080/",
          "height": 516
        }
      },
      "execution_count": 6,
      "outputs": [
        {
          "output_type": "display_data",
          "data": {
            "text/plain": [
              "<Figure size 640x480 with 1 Axes>"
            ],
            "image/png": "[encoded data removed]"
          },
          "metadata": {}
        }
      ]
    },
    {
      "cell_type": "code",
      "source": [
        "# You see edges and their attributes (nothing yet)\n",
        "G.edges.data()"
      ],
      "metadata": {
        "id": "9CIgXt5bXmRa",
        "outputId": "28ed5a9d-7759-4d77-9b1a-956c216db3ce",
        "colab": {
          "base_uri": "https://localhost:8080/"
        }
      },
      "execution_count": 7,
      "outputs": [
        {
          "output_type": "execute_result",
          "data": {
            "text/plain": [
              "EdgeDataView([('Romero', 'Graña', {'weight': 1}), ('Romero', 'Miro Quesada', {'weight': 1}), ('Romero', 'Moreyra', {'weight': 1}), ('Romero', 'Fort', {'weight': 1}), ('Romero', 'De La Puente', {'weight': 1}), ('Romero', 'Onrubia', {'weight': 1}), ('Romero', 'Brescia', {'weight': 1}), ('Romero', 'Nicolini', {'weight': 1}), ('Romero', 'Bentin', {'weight': 1}), ('Romero', 'Benavides', {'weight': 1}), ('Romero', 'Bustamante', {'weight': 1}), ('Romero', 'Woodman Pollit', {'weight': 1}), ('Romero', 'Raffo', {'weight': 1}), ('Romero', 'Piazza', {'weight': 1}), ('Romero', 'Berckemeyer', {'weight': 1}), ('Romero', 'Llosa Barber', {'weight': 1}), ('Romero', 'Rizo Patron', {'weight': 1}), ('Romero', 'Montori', {'weight': 1}), ('Graña', 'Miro Quesada', {'weight': 1}), ('Graña', 'Fort', {'weight': 1}), ('Graña', 'De La Puente', {'weight': 1}), ('Graña', 'Wiese', {'weight': 1}), ('Graña', 'Montero', {'weight': 1}), ('Graña', 'Benavides', {'weight': 1}), ('Graña', 'Bustamante', {'weight': 1}), ('Graña', 'Piazza', {'weight': 1}), ('Graña', 'Beoutis Ledesma', {'weight': 1}), ('Graña', 'Michell', {'weight': 1}), ('Miro Quesada', 'Fort', {'weight': 1}), ('Miro Quesada', 'De La Puente', {'weight': 1}), ('Miro Quesada', 'Wiese', {'weight': 1}), ('Miro Quesada', 'Montero', {'weight': 1}), ('Miro Quesada', 'Benavides', {'weight': 1}), ('Miro Quesada', 'Bustamante', {'weight': 1}), ('Miro Quesada', 'Piazza', {'weight': 1}), ('Miro Quesada', 'Beoutis Ledesma', {'weight': 1}), ('Miro Quesada', 'Michell', {'weight': 1}), ('Moreyra', 'Fort', {'weight': 1}), ('Moreyra', 'De La Puente', {'weight': 1}), ('Moreyra', 'Wiese', {'weight': 1}), ('Moreyra', 'Onrubia', {'weight': 1}), ('Moreyra', 'Brescia', {'weight': 1}), ('Moreyra', 'Montero', {'weight': 1}), ('Moreyra', 'Picaso', {'weight': 1}), ('Moreyra', 'Bentin', {'weight': 1}), ('Moreyra', 'Bustamante', {'weight': 1}), ('Moreyra', 'Raffo', {'weight': 1}), ('Moreyra', 'Berckemeyer', {'weight': 1}), ('Moreyra', 'Rizo Patron', {'weight': 1}), ('Moreyra', 'Montori', {'weight': 1}), ('Moreyra', 'Sotomayor', {'weight': 1}), ('Fort', 'De La Puente', {'weight': 1}), ('Fort', 'Onrubia', {'weight': 1}), ('Fort', 'Brescia', {'weight': 1}), ('Fort', 'Nicolini', {'weight': 1}), ('Fort', 'Picaso', {'weight': 1}), ('Fort', 'Bentin', {'weight': 1}), ('Fort', 'Benavides', {'weight': 1}), ('Fort', 'Bustamante', {'weight': 1}), ('Fort', 'Woodman Pollit', {'weight': 1}), ('Fort', 'Raffo', {'weight': 1}), ('Fort', 'Piazza', {'weight': 1}), ('Fort', 'Llosa Barber', {'weight': 1}), ('Fort', 'Beoutis Ledesma', {'weight': 1}), ('Fort', 'Sotomayor', {'weight': 1}), ('Fort', 'Cilloniz', {'weight': 1}), ('De La Puente', 'Wiese', {'weight': 1}), ('De La Puente', 'Montero', {'weight': 1}), ('De La Puente', 'Benavides', {'weight': 1}), ('De La Puente', 'Bustamante', {'weight': 1}), ('De La Puente', 'Piazza', {'weight': 1}), ('De La Puente', 'Berckemeyer', {'weight': 1}), ('De La Puente', 'Beoutis Ledesma', {'weight': 1}), ('De La Puente', 'Rizo Patron', {'weight': 1}), ('De La Puente', 'Sotomayor', {'weight': 1}), ('Wiese', 'Montero', {'weight': 1}), ('Wiese', 'Berckemeyer', {'weight': 1}), ('Wiese', 'Beoutis Ledesma', {'weight': 1}), ('Wiese', 'Rizo Patron', {'weight': 1}), ('Wiese', 'Sotomayor', {'weight': 1}), ('Onrubia', 'Brescia', {'weight': 1}), ('Onrubia', 'Nicolini', {'weight': 1}), ('Onrubia', 'Bentin', {'weight': 1}), ('Onrubia', 'Woodman Pollit', {'weight': 1}), ('Onrubia', 'Raffo', {'weight': 1}), ('Onrubia', 'Berckemeyer', {'weight': 1}), ('Onrubia', 'Llosa Barber', {'weight': 1}), ('Onrubia', 'Montori', {'weight': 1}), ('Brescia', 'Bentin', {'weight': 1}), ('Brescia', 'Raffo', {'weight': 1}), ('Brescia', 'Berckemeyer', {'weight': 1}), ('Brescia', 'Montori', {'weight': 1}), ('Nicolini', 'Bentin', {'weight': 1}), ('Nicolini', 'Woodman Pollit', {'weight': 1}), ('Nicolini', 'Raffo', {'weight': 1}), ('Nicolini', 'Llosa Barber', {'weight': 1}), ('Nicolini', 'Rizo Patron', {'weight': 1}), ('Montero', 'Picaso', {'weight': 1}), ('Montero', 'Bustamante', {'weight': 1}), ('Montero', 'Beoutis Ledesma', {'weight': 1}), ('Montero', 'Ferreyros', {'weight': 1}), ('Picaso', 'Bustamante', {'weight': 1}), ('Picaso', 'Sotomayor', {'weight': 1}), ('Picaso', 'Cilloniz', {'weight': 1}), ('Bentin', 'Woodman Pollit', {'weight': 1}), ('Bentin', 'Raffo', {'weight': 1}), ('Bentin', 'Berckemeyer', {'weight': 1}), ('Bentin', 'Llosa Barber', {'weight': 1}), ('Bentin', 'Montori', {'weight': 1}), ('Bentin', 'Ferreyros', {'weight': 1}), ('Bentin', 'Wong Lu', {'weight': 1}), ('Benavides', 'Bustamante', {'weight': 1}), ('Benavides', 'Piazza', {'weight': 1}), ('Bustamante', 'Piazza', {'weight': 1}), ('Bustamante', 'Montori', {'weight': 1}), ('Bustamante', 'Cilloniz', {'weight': 1}), ('Bustamante', 'Ferreyros', {'weight': 1}), ('Woodman Pollit', 'Raffo', {'weight': 1}), ('Woodman Pollit', 'Berckemeyer', {'weight': 1}), ('Woodman Pollit', 'Llosa Barber', {'weight': 1}), ('Raffo', 'Berckemeyer', {'weight': 1}), ('Raffo', 'Llosa Barber', {'weight': 1}), ('Raffo', 'Montori', {'weight': 1}), ('Piazza', 'Llosa Barber', {'weight': 1}), ('Piazza', 'Beoutis Ledesma', {'weight': 1}), ('Berckemeyer', 'Rizo Patron', {'weight': 1}), ('Berckemeyer', 'Montori', {'weight': 1}), ('Berckemeyer', 'Sotomayor', {'weight': 1}), ('Berckemeyer', 'Llosa Barber', {'weight': 1}), ('Llosa Barber', 'Beoutis Ledesma', {'weight': 1}), ('Rizo Patron', 'Sotomayor', {'weight': 1}), ('Montori', 'Cilloniz', {'weight': 1}), ('Sotomayor', 'Cilloniz', {'weight': 1}), ('Batievsky Spack', 'Matos Escalada', {'weight': 1}), ('Batievsky Spack', 'Galsky', {'weight': 1})])"
            ]
          },
          "metadata": {},
          "execution_count": 7
        }
      ]
    },
    {
      "cell_type": "code",
      "source": [
        "print(FigueAttr.head())\n"
      ],
      "metadata": {
        "id": "f7VmoEmvYEmI",
        "outputId": "623b726c-1e69-422d-b6dd-9c866c6aec56",
        "colab": {
          "base_uri": "https://localhost:8080/"
        }
      },
      "execution_count": 8,
      "outputs": [
        {
          "output_type": "stream",
          "name": "stdout",
          "text": [
            "           node  Multinacional\n",
            "0        Romero              1\n",
            "1         Graña              1\n",
            "2  Miro Quesada              1\n",
            "3       Moreyra              1\n",
            "4          Fort              1\n"
          ]
        }
      ]
    },
    {
      "cell_type": "code",
      "source": [
        "# Assigning multinational attribute to each node\n",
        "G.nodes['Romero'][\"Multinacional\"] = '1'\n",
        "G.nodes['Graña'][\"Multinacional\"] = '1'\n",
        "G.nodes['Miro Quesada'][\"Multinacional\"] = '1'\n",
        "G.nodes['Moreyra'][\"Multinacional\"] = '1'\n",
        "G.nodes['Fort'][\"Multinacional\"] = '1'\n",
        "G.nodes['De La Puente'][\"Multinacional\"] = '1'\n",
        "G.nodes['Wiese'][\"Multinacional\"] = '1'\n",
        "G.nodes['Onrubia'][\"Multinacional\"] = '1'\n",
        "G.nodes['Brescia'][\"Multinacional\"] = '1'\n",
        "G.nodes['Nicolini'][\"Multinacional\"] = '1'\n",
        "G.nodes['Montero'][\"Multinacional\"] = '1'\n",
        "G.nodes['Picaso'][\"Multinacional\"] = '1'\n",
        "G.nodes['Bentin'][\"Multinacional\"] = '1'\n",
        "G.nodes['Benavides'][\"Multinacional\"] = '1'\n",
        "G.nodes['Bustamante'][\"Multinacional\"] = '1'\n",
        "G.nodes['Woodman Pollit'][\"Multinacional\"] = '1'\n",
        "G.nodes['Raffo'][\"Multinacional\"] = '1'\n",
        "G.nodes['Piazza'][\"Multinacional\"] = '1'\n",
        "G.nodes['Berckemeyer'][\"Multinacional\"] = '0'\n",
        "G.nodes['Llosa Barber'][\"Multinacional\"] = '1'\n",
        "G.nodes['Beoutis Ledesma'][\"Multinacional\"] = '1'\n",
        "G.nodes['Rizo Patron'][\"Multinacional\"] = '1'\n",
        "G.nodes['Montori'][\"Multinacional\"] = '1'\n",
        "G.nodes['Sotomayor'][\"Multinacional\"] = '1'\n",
        "G.nodes['Cilloniz'][\"Multinacional\"] = '1'\n",
        "G.nodes['Ferreyros'][\"Multinacional\"] = '1'\n",
        "G.nodes['Michell'][\"Multinacional\"] = '0'\n",
        "G.nodes['Wong Lu'][\"Multinacional\"] = '1'\n",
        "G.nodes['Batievsky Spack'][\"Multinacional\"] = '1'\n",
        "G.nodes['Matos Escalada'][\"Multinacional\"] = '1'\n",
        "G.nodes['Galsky'][\"Multinacional\"] = '0'\n",
        "G.nodes['Lucioni'][\"Multinacional\"] = '0'\n",
        "G.nodes['Rodriguez Rodríguez'][\"Multinacional\"] = '1'\n",
        "G.nodes['Custer'][\"Multinacional\"] = '0'\n",
        "G.nodes['Ikeda'][\"Multinacional\"] = '1'\n",
        "G.nodes['Cogorno'][\"Multinacional\"] = '1'\n"
      ],
      "metadata": {
        "id": "ZwchMlEieRGK"
      },
      "execution_count": 9,
      "outputs": []
    },
    {
      "cell_type": "code",
      "source": [
        "{node:'red' if Multinacional=='0' else 'blue' for node,Multinacional in nx.get_node_attributes(G, \"Multinacional\").items()}\n"
      ],
      "metadata": {
        "id": "y8D_cfcueYST",
        "outputId": "868c1e7d-eb3b-4ebf-fa25-d817cfce40f9",
        "colab": {
          "base_uri": "https://localhost:8080/"
        },
        "collapsed": true
      },
      "execution_count": 10,
      "outputs": [
        {
          "output_type": "execute_result",
          "data": {
            "text/plain": [
              "{'Romero': 'blue',\n",
              " 'Graña': 'blue',\n",
              " 'Miro Quesada': 'blue',\n",
              " 'Moreyra': 'blue',\n",
              " 'Fort': 'blue',\n",
              " 'De La Puente': 'blue',\n",
              " 'Wiese': 'blue',\n",
              " 'Onrubia': 'blue',\n",
              " 'Brescia': 'blue',\n",
              " 'Nicolini': 'blue',\n",
              " 'Montero': 'blue',\n",
              " 'Picaso': 'blue',\n",
              " 'Bentin': 'blue',\n",
              " 'Benavides': 'blue',\n",
              " 'Bustamante': 'blue',\n",
              " 'Woodman Pollit': 'blue',\n",
              " 'Raffo': 'blue',\n",
              " 'Piazza': 'blue',\n",
              " 'Berckemeyer': 'red',\n",
              " 'Llosa Barber': 'blue',\n",
              " 'Beoutis Ledesma': 'blue',\n",
              " 'Rizo Patron': 'blue',\n",
              " 'Montori': 'blue',\n",
              " 'Sotomayor': 'blue',\n",
              " 'Cilloniz': 'blue',\n",
              " 'Ferreyros': 'blue',\n",
              " 'Michell': 'red',\n",
              " 'Wong Lu': 'blue',\n",
              " 'Batievsky Spack': 'blue',\n",
              " 'Matos Escalada': 'blue',\n",
              " 'Galsky': 'red',\n",
              " 'Lucioni': 'red',\n",
              " 'Rodriguez Rodríguez': 'blue',\n",
              " 'Custer': 'red',\n",
              " 'Ikeda': 'blue',\n",
              " 'Cogorno': 'blue'}"
            ]
          },
          "metadata": {},
          "execution_count": 10
        }
      ]
    },
    {
      "cell_type": "code",
      "source": [
        "colorNodes={node:'red' if Multinacional=='0' else 'blue' for node,Multinacional in nx.get_node_attributes(G, \"Multinacional\").items()}\n",
        "# use 'colorNodes' to create attribute \"color\"\n",
        "nx.set_node_attributes(G, colorNodes, \"color\")\n",
        "\n",
        "# the attribute is now in the node data:\n",
        "G.nodes.data()\n"
      ],
      "metadata": {
        "id": "Ttv6acRnep9c",
        "outputId": "3eae602d-31e5-4a87-86a0-731b7f6c5986",
        "colab": {
          "base_uri": "https://localhost:8080/"
        },
        "collapsed": true
      },
      "execution_count": 11,
      "outputs": [
        {
          "output_type": "execute_result",
          "data": {
            "text/plain": [
              "NodeDataView({'Romero': {'Multinacional': '1', 'color': 'blue'}, 'Graña': {'Multinacional': '1', 'color': 'blue'}, 'Miro Quesada': {'Multinacional': '1', 'color': 'blue'}, 'Moreyra': {'Multinacional': '1', 'color': 'blue'}, 'Fort': {'Multinacional': '1', 'color': 'blue'}, 'De La Puente': {'Multinacional': '1', 'color': 'blue'}, 'Wiese': {'Multinacional': '1', 'color': 'blue'}, 'Onrubia': {'Multinacional': '1', 'color': 'blue'}, 'Brescia': {'Multinacional': '1', 'color': 'blue'}, 'Nicolini': {'Multinacional': '1', 'color': 'blue'}, 'Montero': {'Multinacional': '1', 'color': 'blue'}, 'Picaso': {'Multinacional': '1', 'color': 'blue'}, 'Bentin': {'Multinacional': '1', 'color': 'blue'}, 'Benavides': {'Multinacional': '1', 'color': 'blue'}, 'Bustamante': {'Multinacional': '1', 'color': 'blue'}, 'Woodman Pollit': {'Multinacional': '1', 'color': 'blue'}, 'Raffo': {'Multinacional': '1', 'color': 'blue'}, 'Piazza': {'Multinacional': '1', 'color': 'blue'}, 'Berckemeyer': {'Multinacional': '0', 'color': 'red'}, 'Llosa Barber': {'Multinacional': '1', 'color': 'blue'}, 'Beoutis Ledesma': {'Multinacional': '1', 'color': 'blue'}, 'Rizo Patron': {'Multinacional': '1', 'color': 'blue'}, 'Montori': {'Multinacional': '1', 'color': 'blue'}, 'Sotomayor': {'Multinacional': '1', 'color': 'blue'}, 'Cilloniz': {'Multinacional': '1', 'color': 'blue'}, 'Ferreyros': {'Multinacional': '1', 'color': 'blue'}, 'Michell': {'Multinacional': '0', 'color': 'red'}, 'Wong Lu': {'Multinacional': '1', 'color': 'blue'}, 'Batievsky Spack': {'Multinacional': '1', 'color': 'blue'}, 'Matos Escalada': {'Multinacional': '1', 'color': 'blue'}, 'Galsky': {'Multinacional': '0', 'color': 'red'}, 'Lucioni': {'Multinacional': '0', 'color': 'red'}, 'Rodriguez Rodríguez': {'Multinacional': '1', 'color': 'blue'}, 'Custer': {'Multinacional': '0', 'color': 'red'}, 'Ikeda': {'Multinacional': '1', 'color': 'blue'}, 'Cogorno': {'Multinacional': '1', 'color': 'blue'}, 'Arias Davila': {}})"
            ]
          },
          "metadata": {},
          "execution_count": 11
        }
      ]
    },
    {
      "cell_type": "code",
      "source": [
        "examplesFolder=\"MyGraphs/\" # this folder needs to be created previously on your machine\n",
        "\n",
        "nx.write_graphml(G, examplesFolder+\"css_G.graphml\",named_key_ids=True)"
      ],
      "metadata": {
        "id": "nlubQ8FBTOBs"
      },
      "execution_count": 12,
      "outputs": []
    }
  ],
  "metadata": {
    "hide_input": false,
    "kernelspec": {
      "display_name": "Python 3 (ipykernel)",
      "language": "python",
      "name": "python3"
    },
    "language_info": {
      "codemirror_mode": {
        "name": "ipython",
        "version": 3
      },
      "file_extension": ".py",
      "mimetype": "text/x-python",
      "name": "python",
      "nbconvert_exporter": "python",
      "pygments_lexer": "ipython3",
      "version": "3.10.16"
    },
    "colab": {
      "provenance": []
    }
  },
  "nbformat": 4,
  "nbformat_minor": 0
}